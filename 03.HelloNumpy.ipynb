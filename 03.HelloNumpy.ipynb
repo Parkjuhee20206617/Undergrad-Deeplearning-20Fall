{
 "cells": [
  {
   "cell_type": "markdown",
   "metadata": {
    "id": "V2wc5Ek0dn39"
   },
   "source": [
    "# **Python Numpy Tutorial #1**"
   ]
  },
  {
   "cell_type": "markdown",
   "metadata": {
    "id": "HlzCU-Yhdr8x"
   },
   "source": [
    "# **NumPy**"
   ]
  },
  {
   "cell_type": "code",
   "execution_count": 1,
   "metadata": {
    "executionInfo": {
     "elapsed": 2603,
     "status": "ok",
     "timestamp": 1602552665412,
     "user": {
      "displayName": "pp juju",
      "photoUrl": "",
      "userId": "05403389997470968442"
     },
     "user_tz": -540
    },
    "id": "qy_ScrhCdvaS"
   },
   "outputs": [],
   "source": [
    "import numpy as np\n",
    "import matplotlib.pyplot as plt"
   ]
  },
  {
   "cell_type": "markdown",
   "metadata": {
    "id": "xi6d91yqd29H"
   },
   "source": [
    "**List 형태의 배열**"
   ]
  },
  {
   "cell_type": "code",
   "execution_count": 2,
   "metadata": {
    "executionInfo": {
     "elapsed": 4361,
     "status": "ok",
     "timestamp": 1602552667188,
     "user": {
      "displayName": "pp juju",
      "photoUrl": "",
      "userId": "05403389997470968442"
     },
     "user_tz": -540
    },
    "id": "VWBiOYpXd5IP"
   },
   "outputs": [],
   "source": [
    "a = [1, 2, 3]"
   ]
  },
  {
   "cell_type": "code",
   "execution_count": 3,
   "metadata": {
    "colab": {
     "base_uri": "https://localhost:8080/",
     "height": 34
    },
    "executionInfo": {
     "elapsed": 4341,
     "status": "ok",
     "timestamp": 1602552667189,
     "user": {
      "displayName": "pp juju",
      "photoUrl": "",
      "userId": "05403389997470968442"
     },
     "user_tz": -540
    },
    "id": "RKgia5Apd7cy",
    "outputId": "6af7facc-0f79-4c05-a414-347b9147e48e"
   },
   "outputs": [
    {
     "name": "stdout",
     "output_type": "stream",
     "text": [
      "[1, 2, 3]\n"
     ]
    }
   ],
   "source": [
    "print(a)"
   ]
  },
  {
   "cell_type": "markdown",
   "metadata": {
    "id": "qsCjOEB7d-CP"
   },
   "source": [
    "**Numpy 사용한 배열**"
   ]
  },
  {
   "cell_type": "code",
   "execution_count": 4,
   "metadata": {
    "executionInfo": {
     "elapsed": 4325,
     "status": "ok",
     "timestamp": 1602552667190,
     "user": {
      "displayName": "pp juju",
      "photoUrl": "",
      "userId": "05403389997470968442"
     },
     "user_tz": -540
    },
    "id": "DZoF6_PoeBBd"
   },
   "outputs": [],
   "source": [
    "a = np.array([1, 2, 3])"
   ]
  },
  {
   "cell_type": "code",
   "execution_count": 5,
   "metadata": {
    "colab": {
     "base_uri": "https://localhost:8080/",
     "height": 34
    },
    "executionInfo": {
     "elapsed": 4308,
     "status": "ok",
     "timestamp": 1602552667191,
     "user": {
      "displayName": "pp juju",
      "photoUrl": "",
      "userId": "05403389997470968442"
     },
     "user_tz": -540
    },
    "id": "iuxJZe_DeC44",
    "outputId": "b64a2e52-6016-4ba1-a50c-aa523936ea06"
   },
   "outputs": [
    {
     "name": "stdout",
     "output_type": "stream",
     "text": [
      "[1 2 3]\n"
     ]
    }
   ],
   "source": [
    "print(a)"
   ]
  },
  {
   "cell_type": "code",
   "execution_count": 6,
   "metadata": {
    "colab": {
     "base_uri": "https://localhost:8080/",
     "height": 34
    },
    "executionInfo": {
     "elapsed": 4278,
     "status": "ok",
     "timestamp": 1602552667191,
     "user": {
      "displayName": "pp juju",
      "photoUrl": "",
      "userId": "05403389997470968442"
     },
     "user_tz": -540
    },
    "id": "U2Qs-RgfeEni",
    "outputId": "d683f66f-2fa1-4be8-d758-20268e0afae9"
   },
   "outputs": [
    {
     "data": {
      "text/plain": [
       "(3,)"
      ]
     },
     "execution_count": 6,
     "metadata": {},
     "output_type": "execute_result"
    }
   ],
   "source": [
    "a.shape"
   ]
  },
  {
   "cell_type": "markdown",
   "metadata": {
    "id": "OVsUnXv1eJNA"
   },
   "source": [
    "Create a vector with values ranging from 0 to 8 (총 9개)"
   ]
  },
  {
   "cell_type": "code",
   "execution_count": 7,
   "metadata": {
    "colab": {
     "base_uri": "https://localhost:8080/",
     "height": 34
    },
    "executionInfo": {
     "elapsed": 4231,
     "status": "ok",
     "timestamp": 1602552667191,
     "user": {
      "displayName": "pp juju",
      "photoUrl": "",
      "userId": "05403389997470968442"
     },
     "user_tz": -540
    },
    "id": "nChxyRu3eKhj",
    "outputId": "cc3bc5ac-87d0-41ae-9ac1-fed74a8403d5"
   },
   "outputs": [
    {
     "name": "stdout",
     "output_type": "stream",
     "text": [
      "[0 1 2 3 4 5 6 7 8]\n"
     ]
    }
   ],
   "source": [
    "Z = np.arange(9)\n",
    "print(Z)"
   ]
  },
  {
   "cell_type": "markdown",
   "metadata": {
    "id": "npBZRr6eeP_C"
   },
   "source": [
    "Create a vector with values ranging from 10 to 19"
   ]
  },
  {
   "cell_type": "code",
   "execution_count": 8,
   "metadata": {
    "colab": {
     "base_uri": "https://localhost:8080/",
     "height": 34
    },
    "executionInfo": {
     "elapsed": 4208,
     "status": "ok",
     "timestamp": 1602552667192,
     "user": {
      "displayName": "pp juju",
      "photoUrl": "",
      "userId": "05403389997470968442"
     },
     "user_tz": -540
    },
    "id": "MautvYd9eStw",
    "outputId": "fcdd1060-57bb-459a-92e1-d91a57989c69"
   },
   "outputs": [
    {
     "name": "stdout",
     "output_type": "stream",
     "text": [
      "[10 11 12 13 14 15 16 17 18 19]\n"
     ]
    }
   ],
   "source": [
    "Z = np.arange(10,20)\n",
    "print(Z)"
   ]
  },
  {
   "cell_type": "code",
   "execution_count": 9,
   "metadata": {
    "colab": {
     "base_uri": "https://localhost:8080/",
     "height": 52
    },
    "executionInfo": {
     "elapsed": 4180,
     "status": "ok",
     "timestamp": 1602552667192,
     "user": {
      "displayName": "pp juju",
      "photoUrl": "",
      "userId": "05403389997470968442"
     },
     "user_tz": -540
    },
    "id": "DHP8Ir-reYfb",
    "outputId": "58f471ab-772e-4ae1-c175-2bd9657500f9"
   },
   "outputs": [
    {
     "name": "stdout",
     "output_type": "stream",
     "text": [
      "(2, 3)\n",
      "1 2 4\n"
     ]
    }
   ],
   "source": [
    "b = np.array([[1,2,3],[4,5,6]])   # rank가 2인 배열 생성\n",
    "print(b.shape)                     # 출력 \"(2, 3)\"\n",
    "print(b[0, 0], b[0, 1], b[1, 0])   # 출력 \"1 2 4\""
   ]
  },
  {
   "cell_type": "markdown",
   "metadata": {
    "id": "zqO8UISaepLx"
   },
   "source": [
    "* 순서 뒤집기"
   ]
  },
  {
   "cell_type": "markdown",
   "metadata": {
    "id": "Jc4qItTmes-W"
   },
   "source": [
    "Reverse a vector : first element becomes last"
   ]
  },
  {
   "cell_type": "code",
   "execution_count": 10,
   "metadata": {
    "colab": {
     "base_uri": "https://localhost:8080/",
     "height": 34
    },
    "executionInfo": {
     "elapsed": 4157,
     "status": "ok",
     "timestamp": 1602552667194,
     "user": {
      "displayName": "pp juju",
      "photoUrl": "",
      "userId": "05403389997470968442"
     },
     "user_tz": -540
    },
    "id": "YiMEBnECeuYv",
    "outputId": "22c32b93-5d80-4cfe-ccb0-07b3bc5240f6"
   },
   "outputs": [
    {
     "name": "stdout",
     "output_type": "stream",
     "text": [
      "[0 1 2 3 4 5 6 7 8 9]\n"
     ]
    }
   ],
   "source": [
    "Z = np.arange(10)\n",
    "print(Z)"
   ]
  },
  {
   "cell_type": "code",
   "execution_count": 11,
   "metadata": {
    "colab": {
     "base_uri": "https://localhost:8080/",
     "height": 34
    },
    "executionInfo": {
     "elapsed": 4117,
     "status": "ok",
     "timestamp": 1602552667194,
     "user": {
      "displayName": "pp juju",
      "photoUrl": "",
      "userId": "05403389997470968442"
     },
     "user_tz": -540
    },
    "id": "SCqPP8_eexSt",
    "outputId": "778958c1-7bab-48a1-8613-e9bcd2b1565c"
   },
   "outputs": [
    {
     "name": "stdout",
     "output_type": "stream",
     "text": [
      "[9 8 7 6 5 4 3 2 1 0]\n"
     ]
    }
   ],
   "source": [
    "Z = Z[::-1]\n",
    "print(Z)"
   ]
  },
  {
   "cell_type": "markdown",
   "metadata": {
    "id": "El7rc5k8ez6-"
   },
   "source": [
    "# **Axis / axe**"
   ]
  },
  {
   "cell_type": "code",
   "execution_count": 12,
   "metadata": {
    "colab": {
     "base_uri": "https://localhost:8080/",
     "height": 52
    },
    "executionInfo": {
     "elapsed": 4071,
     "status": "ok",
     "timestamp": 1602552667194,
     "user": {
      "displayName": "pp juju",
      "photoUrl": "",
      "userId": "05403389997470968442"
     },
     "user_tz": -540
    },
    "id": "SWPjk_pwe2tN",
    "outputId": "1b8e8d65-5bef-401f-a902-73c5054195c6"
   },
   "outputs": [
    {
     "name": "stdout",
     "output_type": "stream",
     "text": [
      "[[1 2]\n",
      " [3 4]]\n"
     ]
    }
   ],
   "source": [
    "a = np.array([[1, 2], [3, 4]])\n",
    "print(a)"
   ]
  },
  {
   "cell_type": "markdown",
   "metadata": {
    "id": "9-eXC6V7e7Bm"
   },
   "source": [
    "Axis를 지정하지 않으면 전체 평균을 구하게 됨"
   ]
  },
  {
   "cell_type": "code",
   "execution_count": 13,
   "metadata": {
    "colab": {
     "base_uri": "https://localhost:8080/",
     "height": 34
    },
    "executionInfo": {
     "elapsed": 4046,
     "status": "ok",
     "timestamp": 1602552667195,
     "user": {
      "displayName": "pp juju",
      "photoUrl": "",
      "userId": "05403389997470968442"
     },
     "user_tz": -540
    },
    "id": "lMPKnzPze8GG",
    "outputId": "d6c1743e-031b-4f67-c30d-53269599f36c"
   },
   "outputs": [
    {
     "data": {
      "text/plain": [
       "2.5"
      ]
     },
     "execution_count": 13,
     "metadata": {},
     "output_type": "execute_result"
    }
   ],
   "source": [
    "np.mean(a)"
   ]
  },
  {
   "cell_type": "markdown",
   "metadata": {
    "id": "jKVZUTHHe-TI"
   },
   "source": [
    "Axis 0 방향 (↓)"
   ]
  },
  {
   "cell_type": "code",
   "execution_count": 14,
   "metadata": {
    "colab": {
     "base_uri": "https://localhost:8080/",
     "height": 34
    },
    "executionInfo": {
     "elapsed": 4018,
     "status": "ok",
     "timestamp": 1602552667195,
     "user": {
      "displayName": "pp juju",
      "photoUrl": "",
      "userId": "05403389997470968442"
     },
     "user_tz": -540
    },
    "id": "UtS09S4me_dz",
    "outputId": "8ba6d723-ffda-4ee4-ae95-865419a4324c"
   },
   "outputs": [
    {
     "data": {
      "text/plain": [
       "array([2., 3.])"
      ]
     },
     "execution_count": 14,
     "metadata": {},
     "output_type": "execute_result"
    }
   ],
   "source": [
    "np.mean(a, axis=0)"
   ]
  },
  {
   "cell_type": "code",
   "execution_count": 15,
   "metadata": {
    "colab": {
     "base_uri": "https://localhost:8080/",
     "height": 34
    },
    "executionInfo": {
     "elapsed": 3998,
     "status": "ok",
     "timestamp": 1602552667196,
     "user": {
      "displayName": "pp juju",
      "photoUrl": "",
      "userId": "05403389997470968442"
     },
     "user_tz": -540
    },
    "id": "pa3pKft4fEQ9",
    "outputId": "011b0201-b16b-4051-d1a9-2d4bb8d39845"
   },
   "outputs": [
    {
     "data": {
      "text/plain": [
       "array([4, 6])"
      ]
     },
     "execution_count": 15,
     "metadata": {},
     "output_type": "execute_result"
    }
   ],
   "source": [
    "np.sum(a, axis=0)"
   ]
  },
  {
   "cell_type": "markdown",
   "metadata": {
    "id": "uYFOtCiWfHq3"
   },
   "source": [
    "Axis 1 방향 (→)"
   ]
  },
  {
   "cell_type": "code",
   "execution_count": 16,
   "metadata": {
    "colab": {
     "base_uri": "https://localhost:8080/",
     "height": 34
    },
    "executionInfo": {
     "elapsed": 3969,
     "status": "ok",
     "timestamp": 1602552667196,
     "user": {
      "displayName": "pp juju",
      "photoUrl": "",
      "userId": "05403389997470968442"
     },
     "user_tz": -540
    },
    "id": "CWqsg8WYfIP5",
    "outputId": "bdfce2d9-18a2-4308-e118-8035a72dacce"
   },
   "outputs": [
    {
     "data": {
      "text/plain": [
       "array([1.5, 3.5])"
      ]
     },
     "execution_count": 16,
     "metadata": {},
     "output_type": "execute_result"
    }
   ],
   "source": [
    "np.mean(a, axis=1)"
   ]
  },
  {
   "cell_type": "code",
   "execution_count": 17,
   "metadata": {
    "colab": {
     "base_uri": "https://localhost:8080/",
     "height": 34
    },
    "executionInfo": {
     "elapsed": 3954,
     "status": "ok",
     "timestamp": 1602552667196,
     "user": {
      "displayName": "pp juju",
      "photoUrl": "",
      "userId": "05403389997470968442"
     },
     "user_tz": -540
    },
    "id": "jJtB3ACdfLvd",
    "outputId": "a89dfdfe-d288-4fb9-a762-ce7d09c0a138"
   },
   "outputs": [
    {
     "data": {
      "text/plain": [
       "array([3, 7])"
      ]
     },
     "execution_count": 17,
     "metadata": {},
     "output_type": "execute_result"
    }
   ],
   "source": [
    "np.sum(a, axis=1)"
   ]
  },
  {
   "cell_type": "markdown",
   "metadata": {
    "id": "w-ZTttxSfNRO"
   },
   "source": [
    "# **Slicing and dicing**"
   ]
  },
  {
   "cell_type": "code",
   "execution_count": 18,
   "metadata": {
    "colab": {
     "base_uri": "https://localhost:8080/",
     "height": 34
    },
    "executionInfo": {
     "elapsed": 3937,
     "status": "ok",
     "timestamp": 1602552667197,
     "user": {
      "displayName": "pp juju",
      "photoUrl": "",
      "userId": "05403389997470968442"
     },
     "user_tz": -540
    },
    "id": "wSSVQqmnfP1l",
    "outputId": "a0c55a74-3075-4999-e6d6-4a61d3fc0183"
   },
   "outputs": [
    {
     "name": "stdout",
     "output_type": "stream",
     "text": [
      "[0 1 2 3 4 5 6 7 8 9]\n"
     ]
    }
   ],
   "source": [
    "a = np.arange(10)\n",
    "print(a)"
   ]
  },
  {
   "cell_type": "code",
   "execution_count": 19,
   "metadata": {
    "colab": {
     "base_uri": "https://localhost:8080/",
     "height": 34
    },
    "executionInfo": {
     "elapsed": 3912,
     "status": "ok",
     "timestamp": 1602552667197,
     "user": {
      "displayName": "pp juju",
      "photoUrl": "",
      "userId": "05403389997470968442"
     },
     "user_tz": -540
    },
    "id": "r_HLqm6-fScV",
    "outputId": "071d093f-2951-401a-d368-e2a36922f0d6"
   },
   "outputs": [
    {
     "data": {
      "text/plain": [
       "array([2, 4, 6])"
      ]
     },
     "execution_count": 19,
     "metadata": {},
     "output_type": "execute_result"
    }
   ],
   "source": [
    "##(start:stop:step)\n",
    "a[2:7:2]"
   ]
  },
  {
   "cell_type": "code",
   "execution_count": 20,
   "metadata": {
    "colab": {
     "base_uri": "https://localhost:8080/",
     "height": 34
    },
    "executionInfo": {
     "elapsed": 3890,
     "status": "ok",
     "timestamp": 1602552667198,
     "user": {
      "displayName": "pp juju",
      "photoUrl": "",
      "userId": "05403389997470968442"
     },
     "user_tz": -540
    },
    "id": "HIfAH5uVfU1L",
    "outputId": "b0414279-a0ac-4b46-90e8-52a99ac34f0e"
   },
   "outputs": [
    {
     "data": {
      "text/plain": [
       "array([4, 5, 6, 7, 8, 9])"
      ]
     },
     "execution_count": 20,
     "metadata": {},
     "output_type": "execute_result"
    }
   ],
   "source": [
    "a[4:]"
   ]
  },
  {
   "cell_type": "code",
   "execution_count": 21,
   "metadata": {},
   "outputs": [
    {
     "data": {
      "text/plain": [
       "array([0, 1, 2, 3])"
      ]
     },
     "execution_count": 21,
     "metadata": {},
     "output_type": "execute_result"
    }
   ],
   "source": [
    "a[:4]"
   ]
  },
  {
   "cell_type": "code",
   "execution_count": 22,
   "metadata": {
    "colab": {
     "base_uri": "https://localhost:8080/",
     "height": 70
    },
    "executionInfo": {
     "elapsed": 3869,
     "status": "ok",
     "timestamp": 1602552667198,
     "user": {
      "displayName": "pp juju",
      "photoUrl": "",
      "userId": "05403389997470968442"
     },
     "user_tz": -540
    },
    "id": "K9nBm0jQfYUx",
    "outputId": "efa28e3a-1d7c-4c6a-eaac-6bf54d6d527b"
   },
   "outputs": [
    {
     "name": "stdout",
     "output_type": "stream",
     "text": [
      "[[1 2 3]\n",
      " [3 4 5]\n",
      " [4 5 6]]\n"
     ]
    }
   ],
   "source": [
    "a = np.array([[1,2,3],[3,4,5],[4,5,6]]) \n",
    "print(a)"
   ]
  },
  {
   "cell_type": "code",
   "execution_count": 23,
   "metadata": {},
   "outputs": [
    {
     "data": {
      "text/plain": [
       "(3, 3)"
      ]
     },
     "execution_count": 23,
     "metadata": {},
     "output_type": "execute_result"
    }
   ],
   "source": [
    "a.shape"
   ]
  },
  {
   "cell_type": "code",
   "execution_count": 24,
   "metadata": {
    "colab": {
     "base_uri": "https://localhost:8080/",
     "height": 34
    },
    "executionInfo": {
     "elapsed": 3846,
     "status": "ok",
     "timestamp": 1602552667198,
     "user": {
      "displayName": "pp juju",
      "photoUrl": "",
      "userId": "05403389997470968442"
     },
     "user_tz": -540
    },
    "id": "tPPpY5otfcHI",
    "outputId": "799fadd1-2ee4-40a5-d610-cb74f2cb2cd2"
   },
   "outputs": [
    {
     "data": {
      "text/plain": [
       "array([2, 4, 5])"
      ]
     },
     "execution_count": 24,
     "metadata": {},
     "output_type": "execute_result"
    }
   ],
   "source": [
    "# Returns array of items in the second column \n",
    "a[...,1]"
   ]
  },
  {
   "cell_type": "code",
   "execution_count": 25,
   "metadata": {
    "colab": {
     "base_uri": "https://localhost:8080/",
     "height": 34
    },
    "executionInfo": {
     "elapsed": 3818,
     "status": "ok",
     "timestamp": 1602552667199,
     "user": {
      "displayName": "pp juju",
      "photoUrl": "",
      "userId": "05403389997470968442"
     },
     "user_tz": -540
    },
    "id": "hseEgDxUfitI",
    "outputId": "3c45b19b-2db7-4282-d7ee-4c070b8e6317"
   },
   "outputs": [
    {
     "data": {
      "text/plain": [
       "array([3, 4, 5])"
      ]
     },
     "execution_count": 25,
     "metadata": {},
     "output_type": "execute_result"
    }
   ],
   "source": [
    "# Will slice all items from the second row \n",
    "a[1,...]"
   ]
  },
  {
   "cell_type": "code",
   "execution_count": 26,
   "metadata": {
    "colab": {
     "base_uri": "https://localhost:8080/",
     "height": 70
    },
    "executionInfo": {
     "elapsed": 3796,
     "status": "ok",
     "timestamp": 1602552667199,
     "user": {
      "displayName": "pp juju",
      "photoUrl": "",
      "userId": "05403389997470968442"
     },
     "user_tz": -540
    },
    "id": "0ehaAzxrfqLc",
    "outputId": "23f5bbbd-4ef1-42cb-ef11-317bcc94d9dc"
   },
   "outputs": [
    {
     "data": {
      "text/plain": [
       "array([[2, 3],\n",
       "       [4, 5],\n",
       "       [5, 6]])"
      ]
     },
     "execution_count": 26,
     "metadata": {},
     "output_type": "execute_result"
    }
   ],
   "source": [
    "# Will slice all items from column 1 onwards \n",
    "a[...,1:]"
   ]
  },
  {
   "cell_type": "code",
   "execution_count": 27,
   "metadata": {},
   "outputs": [
    {
     "data": {
      "text/plain": [
       "array([[3, 4, 5],\n",
       "       [4, 5, 6]])"
      ]
     },
     "execution_count": 27,
     "metadata": {},
     "output_type": "execute_result"
    }
   ],
   "source": [
    "a[1:3,...]"
   ]
  },
  {
   "cell_type": "code",
   "execution_count": 28,
   "metadata": {
    "colab": {
     "base_uri": "https://localhost:8080/",
     "height": 52
    },
    "executionInfo": {
     "elapsed": 3754,
     "status": "ok",
     "timestamp": 1602552667200,
     "user": {
      "displayName": "pp juju",
      "photoUrl": "",
      "userId": "05403389997470968442"
     },
     "user_tz": -540
    },
    "id": "OgAekGoGfvFb",
    "outputId": "0aa3d1db-7a18-4f9a-fbcc-6df1800f9135"
   },
   "outputs": [
    {
     "data": {
      "text/plain": [
       "array([[4, 5],\n",
       "       [5, 6]])"
      ]
     },
     "execution_count": 28,
     "metadata": {},
     "output_type": "execute_result"
    }
   ],
   "source": [
    "# Slicing using advanced index for column\n",
    "a[1:3,[1,2]]"
   ]
  },
  {
   "cell_type": "code",
   "execution_count": 29,
   "metadata": {},
   "outputs": [
    {
     "data": {
      "text/plain": [
       "array([[1, 2, 3],\n",
       "       [3, 4, 5],\n",
       "       [4, 5, 6]])"
      ]
     },
     "execution_count": 29,
     "metadata": {},
     "output_type": "execute_result"
    }
   ],
   "source": [
    "a"
   ]
  },
  {
   "cell_type": "markdown",
   "metadata": {
    "id": "M2QzfZCMgtBH"
   },
   "source": [
    "# **Broadcast**"
   ]
  },
  {
   "cell_type": "markdown",
   "metadata": {
    "id": "OhlSQUrPgvFH"
   },
   "source": [
    "넘파이에서 형상이 다른 배열을 계산하기 위해서 지원하는 기능 (without explicit for-loop)"
   ]
  },
  {
   "cell_type": "code",
   "execution_count": 30,
   "metadata": {
    "colab": {
     "base_uri": "https://localhost:8080/",
     "height": 70
    },
    "executionInfo": {
     "elapsed": 3722,
     "status": "ok",
     "timestamp": 1602552667200,
     "user": {
      "displayName": "pp juju",
      "photoUrl": "",
      "userId": "05403389997470968442"
     },
     "user_tz": -540
    },
    "id": "hyOvn1OlgwHs",
    "outputId": "6e85a0cf-020c-4a9e-cd7e-232bc4c322db"
   },
   "outputs": [
    {
     "name": "stdout",
     "output_type": "stream",
     "text": [
      "[[ 56.    0.    4.   68. ]\n",
      " [  1.2 104.   52.    8. ]\n",
      " [  1.8 135.   99.    0.9]]\n"
     ]
    }
   ],
   "source": [
    "A = np.array([[56.0, 0.0, 4.0, 68.0], \n",
    "              [1.2, 104.0, 52.0, 8.0], \n",
    "              [1.8, 135.0, 99.0, 0.9]])\n",
    "print(A)"
   ]
  },
  {
   "cell_type": "code",
   "execution_count": 31,
   "metadata": {
    "colab": {
     "base_uri": "https://localhost:8080/",
     "height": 34
    },
    "executionInfo": {
     "elapsed": 3698,
     "status": "ok",
     "timestamp": 1602552667200,
     "user": {
      "displayName": "pp juju",
      "photoUrl": "",
      "userId": "05403389997470968442"
     },
     "user_tz": -540
    },
    "id": "-WkzL3n4g0Uw",
    "outputId": "96a5ee6a-853c-4770-a251-772bf175be79"
   },
   "outputs": [
    {
     "name": "stdout",
     "output_type": "stream",
     "text": [
      "[ 59.  239.  155.   76.9]\n"
     ]
    }
   ],
   "source": [
    "cal = A.sum(axis=0)\n",
    "print(cal)"
   ]
  },
  {
   "cell_type": "code",
   "execution_count": 32,
   "metadata": {
    "colab": {
     "base_uri": "https://localhost:8080/",
     "height": 70
    },
    "executionInfo": {
     "elapsed": 3681,
     "status": "ok",
     "timestamp": 1602552667201,
     "user": {
      "displayName": "pp juju",
      "photoUrl": "",
      "userId": "05403389997470968442"
     },
     "user_tz": -540
    },
    "id": "Gx9NPIuDg4Y-",
    "outputId": "bb0d3035-d403-404f-b559-adf61b20693e"
   },
   "outputs": [
    {
     "name": "stdout",
     "output_type": "stream",
     "text": [
      "[[94.91525424  0.          2.58064516 88.42652796]\n",
      " [ 2.03389831 43.51464435 33.5483871  10.40312094]\n",
      " [ 3.05084746 56.48535565 63.87096774  1.17035111]]\n"
     ]
    }
   ],
   "source": [
    "percentage = 100* A / cal #.reshape(1,4)\n",
    "print(percentage)"
   ]
  },
  {
   "cell_type": "markdown",
   "metadata": {
    "id": "yh1A17Vog8zJ"
   },
   "source": [
    "# **Stack**"
   ]
  },
  {
   "cell_type": "code",
   "execution_count": 33,
   "metadata": {
    "executionInfo": {
     "elapsed": 3664,
     "status": "ok",
     "timestamp": 1602552667201,
     "user": {
      "displayName": "pp juju",
      "photoUrl": "",
      "userId": "05403389997470968442"
     },
     "user_tz": -540
    },
    "id": "TbC9wHXBg-ad"
   },
   "outputs": [],
   "source": [
    "a = np.array([1,2,3,4])\n",
    "b = np.array([5,6,7,8])"
   ]
  },
  {
   "cell_type": "markdown",
   "metadata": {
    "id": "p76Wvp8bhB-s"
   },
   "source": [
    "* 세로로 쌓기"
   ]
  },
  {
   "cell_type": "code",
   "execution_count": 34,
   "metadata": {
    "colab": {
     "base_uri": "https://localhost:8080/",
     "height": 70
    },
    "executionInfo": {
     "elapsed": 3648,
     "status": "ok",
     "timestamp": 1602552667201,
     "user": {
      "displayName": "pp juju",
      "photoUrl": "",
      "userId": "05403389997470968442"
     },
     "user_tz": -540
    },
    "id": "W1LOnV9JhFDX",
    "outputId": "eb41defb-dca7-4ea3-8984-cca33f00cf19"
   },
   "outputs": [
    {
     "name": "stdout",
     "output_type": "stream",
     "text": [
      "[[1 2 3 4]\n",
      " [5 6 7 8]]\n",
      "(2, 4)\n"
     ]
    }
   ],
   "source": [
    "c = np.vstack((a,b))\n",
    "print(c)\n",
    "print(c.shape)"
   ]
  },
  {
   "cell_type": "markdown",
   "metadata": {
    "id": "wWJpetXkhNCm"
   },
   "source": [
    "* 가로로 쌓기"
   ]
  },
  {
   "cell_type": "code",
   "execution_count": 35,
   "metadata": {
    "colab": {
     "base_uri": "https://localhost:8080/",
     "height": 34
    },
    "executionInfo": {
     "elapsed": 3624,
     "status": "ok",
     "timestamp": 1602552667202,
     "user": {
      "displayName": "pp juju",
      "photoUrl": "",
      "userId": "05403389997470968442"
     },
     "user_tz": -540
    },
    "id": "zLxNRkIZhPzQ",
    "outputId": "0c4ea805-db99-409e-bdc7-c498601c3f68"
   },
   "outputs": [
    {
     "name": "stdout",
     "output_type": "stream",
     "text": [
      "[1 2 3 4 5 6 7 8]\n"
     ]
    }
   ],
   "source": [
    "d = np.hstack((a,b))\n",
    "print(d)"
   ]
  },
  {
   "cell_type": "markdown",
   "metadata": {
    "id": "T2HkqdnMhTWA"
   },
   "source": [
    "# **형변환**"
   ]
  },
  {
   "cell_type": "code",
   "execution_count": 36,
   "metadata": {
    "colab": {
     "base_uri": "https://localhost:8080/",
     "height": 34
    },
    "executionInfo": {
     "elapsed": 3600,
     "status": "ok",
     "timestamp": 1602552667202,
     "user": {
      "displayName": "pp juju",
      "photoUrl": "",
      "userId": "05403389997470968442"
     },
     "user_tz": -540
    },
    "id": "FHI-hszjhU3y",
    "outputId": "9224c020-069e-496d-a950-f86c46cada43"
   },
   "outputs": [
    {
     "name": "stdout",
     "output_type": "stream",
     "text": [
      "[False  True  True]\n"
     ]
    }
   ],
   "source": [
    "x = np.array([-2.0, 1.2, 3.7])\n",
    "y = x > 0\n",
    "print(y)"
   ]
  },
  {
   "cell_type": "code",
   "execution_count": 37,
   "metadata": {
    "colab": {
     "base_uri": "https://localhost:8080/",
     "height": 34
    },
    "executionInfo": {
     "elapsed": 3573,
     "status": "ok",
     "timestamp": 1602552667203,
     "user": {
      "displayName": "pp juju",
      "photoUrl": "",
      "userId": "05403389997470968442"
     },
     "user_tz": -540
    },
    "id": "ulcK50IVhX7E",
    "outputId": "e5f19b9c-1149-4654-82ad-68b8da28d6a4"
   },
   "outputs": [
    {
     "name": "stdout",
     "output_type": "stream",
     "text": [
      "[0 1 1]\n"
     ]
    }
   ],
   "source": [
    "y = y.astype(np.int)\n",
    "print(y)"
   ]
  },
  {
   "cell_type": "markdown",
   "metadata": {
    "id": "5nI35zOTh6oA"
   },
   "source": [
    "# **Noise**"
   ]
  },
  {
   "cell_type": "code",
   "execution_count": 38,
   "metadata": {
    "executionInfo": {
     "elapsed": 3552,
     "status": "ok",
     "timestamp": 1602552667203,
     "user": {
      "displayName": "pp juju",
      "photoUrl": "",
      "userId": "05403389997470968442"
     },
     "user_tz": -540
    },
    "id": "-1zbiKuciDrh"
   },
   "outputs": [],
   "source": [
    "x = np.arange(0, 6, 0.1) # 0에서 6까지 0.1 간격으로 생성\n",
    "y = np.sin(x)"
   ]
  },
  {
   "cell_type": "code",
   "execution_count": 39,
   "metadata": {
    "colab": {
     "base_uri": "https://localhost:8080/",
     "height": 228
    },
    "executionInfo": {
     "elapsed": 3532,
     "status": "ok",
     "timestamp": 1602552667203,
     "user": {
      "displayName": "pp juju",
      "photoUrl": "",
      "userId": "05403389997470968442"
     },
     "user_tz": -540
    },
    "id": "Qvevp4XRiXLD",
    "outputId": "ecc21e6a-47fe-4ff3-9182-28ca637b61ab"
   },
   "outputs": [
    {
     "data": {
      "text/plain": [
       "array([ 0.        ,  0.09983342,  0.19866933,  0.29552021,  0.38941834,\n",
       "        0.47942554,  0.56464247,  0.64421769,  0.71735609,  0.78332691,\n",
       "        0.84147098,  0.89120736,  0.93203909,  0.96355819,  0.98544973,\n",
       "        0.99749499,  0.9995736 ,  0.99166481,  0.97384763,  0.94630009,\n",
       "        0.90929743,  0.86320937,  0.8084964 ,  0.74570521,  0.67546318,\n",
       "        0.59847214,  0.51550137,  0.42737988,  0.33498815,  0.23924933,\n",
       "        0.14112001,  0.04158066, -0.05837414, -0.15774569, -0.2555411 ,\n",
       "       -0.35078323, -0.44252044, -0.52983614, -0.61185789, -0.68776616,\n",
       "       -0.7568025 , -0.81827711, -0.87157577, -0.91616594, -0.95160207,\n",
       "       -0.97753012, -0.993691  , -0.99992326, -0.99616461, -0.98245261,\n",
       "       -0.95892427, -0.92581468, -0.88345466, -0.83226744, -0.77276449,\n",
       "       -0.70554033, -0.63126664, -0.55068554, -0.46460218, -0.37387666])"
      ]
     },
     "execution_count": 39,
     "metadata": {},
     "output_type": "execute_result"
    }
   ],
   "source": [
    "y"
   ]
  },
  {
   "cell_type": "code",
   "execution_count": 40,
   "metadata": {
    "colab": {
     "base_uri": "https://localhost:8080/",
     "height": 34
    },
    "executionInfo": {
     "elapsed": 3499,
     "status": "ok",
     "timestamp": 1602552667204,
     "user": {
      "displayName": "pp juju",
      "photoUrl": "",
      "userId": "05403389997470968442"
     },
     "user_tz": -540
    },
    "id": "Zj4QBsq2iaIn",
    "outputId": "d93285fa-5dc4-469a-e5a3-856816cd5110"
   },
   "outputs": [
    {
     "name": "stdout",
     "output_type": "stream",
     "text": [
      "60\n"
     ]
    }
   ],
   "source": [
    "signal_length = y.shape[0]\n",
    "print(signal_length)"
   ]
  },
  {
   "cell_type": "code",
   "execution_count": 41,
   "metadata": {
    "executionInfo": {
     "elapsed": 3485,
     "status": "ok",
     "timestamp": 1602552667204,
     "user": {
      "displayName": "pp juju",
      "photoUrl": "",
      "userId": "05403389997470968442"
     },
     "user_tz": -540
    },
    "id": "NMTfDWDlicYW"
   },
   "outputs": [],
   "source": [
    "noise = np.random.normal(0, 1, signal_length)\n",
    "y2 = y + 0.2* noise"
   ]
  },
  {
   "cell_type": "code",
   "execution_count": 42,
   "metadata": {
    "colab": {
     "base_uri": "https://localhost:8080/",
     "height": 282
    },
    "executionInfo": {
     "elapsed": 3473,
     "status": "ok",
     "timestamp": 1602552667204,
     "user": {
      "displayName": "pp juju",
      "photoUrl": "",
      "userId": "05403389997470968442"
     },
     "user_tz": -540
    },
    "id": "SuKWyVcsieHz",
    "outputId": "c465e983-0a33-4e8c-d3f1-492745c41bfc"
   },
   "outputs": [
    {
     "data": {
      "text/plain": [
       "[<matplotlib.lines.Line2D at 0x7f9c863613c8>]"
      ]
     },
     "execution_count": 42,
     "metadata": {},
     "output_type": "execute_result"
    },
    {
     "data": {
      "image/png": "[encoded data removed]",
      "text/plain": [
       "<Figure size 432x288 with 1 Axes>"
      ]
     },
     "metadata": {
      "needs_background": "light"
     },
     "output_type": "display_data"
    }
   ],
   "source": [
    "plt.plot(x, y)\n",
    "plt.plot(x, y2)\n",
    "#plt.show()"
   ]
  },
  {
   "cell_type": "markdown",
   "metadata": {
    "id": "MPnPUYS4ihTq"
   },
   "source": [
    "**배열 형태 변환**"
   ]
  },
  {
   "cell_type": "code",
   "execution_count": 43,
   "metadata": {
    "colab": {
     "base_uri": "https://localhost:8080/",
     "height": 70
    },
    "executionInfo": {
     "elapsed": 3455,
     "status": "ok",
     "timestamp": 1602552667205,
     "user": {
      "displayName": "pp juju",
      "photoUrl": "",
      "userId": "05403389997470968442"
     },
     "user_tz": -540
    },
    "id": "ftGEdJWRikSA",
    "outputId": "c9842122-fa4a-49df-c5ca-e137bfcf73ae"
   },
   "outputs": [
    {
     "name": "stdout",
     "output_type": "stream",
     "text": [
      "[[0 1 2]\n",
      " [3 4 5]\n",
      " [6 7 8]]\n"
     ]
    }
   ],
   "source": [
    "Z = np.arange(9).reshape(3,3)\n",
    "print(Z)"
   ]
  },
  {
   "cell_type": "code",
   "execution_count": 44,
   "metadata": {
    "colab": {
     "base_uri": "https://localhost:8080/",
     "height": 281
    },
    "executionInfo": {
     "elapsed": 3436,
     "status": "ok",
     "timestamp": 1602552667205,
     "user": {
      "displayName": "pp juju",
      "photoUrl": "",
      "userId": "05403389997470968442"
     },
     "user_tz": -540
    },
    "id": "FUn-p3C-im8I",
    "outputId": "5a167978-af43-4318-c60e-70c334d55544"
   },
   "outputs": [
    {
     "name": "stdout",
     "output_type": "stream",
     "text": [
      "[[[0.94242827 0.98528436]\n",
      "  [0.91363957 0.15042586]\n",
      "  [0.58926235 0.22814304]]\n",
      "\n",
      " [[0.56984696 0.90426103]\n",
      "  [0.59440407 0.48609853]\n",
      "  [0.8693266  0.71173684]]\n",
      "\n",
      " [[0.79799118 0.6311255 ]\n",
      "  [0.9020021  0.53958302]\n",
      "  [0.8827352  0.01185581]]\n",
      "\n",
      " [[0.28676945 0.48200653]\n",
      "  [0.9158892  0.29432831]\n",
      "  [0.09315014 0.04765295]]]\n"
     ]
    }
   ],
   "source": [
    "A = np.random.rand(4, 3, 2)\n",
    "print(A)"
   ]
  },
  {
   "cell_type": "code",
   "execution_count": 45,
   "metadata": {
    "colab": {
     "base_uri": "https://localhost:8080/",
     "height": 228
    },
    "executionInfo": {
     "elapsed": 3421,
     "status": "ok",
     "timestamp": 1602552667206,
     "user": {
      "displayName": "pp juju",
      "photoUrl": "",
      "userId": "05403389997470968442"
     },
     "user_tz": -540
    },
    "id": "suxbGj1mixZ-",
    "outputId": "8400514c-7266-4621-e64d-389461b1bb56"
   },
   "outputs": [
    {
     "name": "stdout",
     "output_type": "stream",
     "text": [
      "[[0.94242827 0.98528436]\n",
      " [0.91363957 0.15042586]\n",
      " [0.58926235 0.22814304]\n",
      " [0.56984696 0.90426103]\n",
      " [0.59440407 0.48609853]\n",
      " [0.8693266  0.71173684]\n",
      " [0.79799118 0.6311255 ]\n",
      " [0.9020021  0.53958302]\n",
      " [0.8827352  0.01185581]\n",
      " [0.28676945 0.48200653]\n",
      " [0.9158892  0.29432831]\n",
      " [0.09315014 0.04765295]]\n"
     ]
    }
   ],
   "source": [
    "A = A.reshape(12, 2)\n",
    "print(A)"
   ]
  },
  {
   "cell_type": "markdown",
   "metadata": {
    "id": "s__Ic9lRi0VJ"
   },
   "source": [
    "**1차원 변환 ravel() vs. reshape() vs. flatten()**"
   ]
  },
  {
   "cell_type": "markdown",
   "metadata": {
    "id": "scTXTLqQi1wH"
   },
   "source": [
    "* 다차원 배열을 1차원으로 바꾸는 것"
   ]
  },
  {
   "cell_type": "code",
   "execution_count": 46,
   "metadata": {
    "colab": {
     "base_uri": "https://localhost:8080/",
     "height": 34
    },
    "executionInfo": {
     "elapsed": 3392,
     "status": "ok",
     "timestamp": 1602552667206,
     "user": {
      "displayName": "pp juju",
      "photoUrl": "",
      "userId": "05403389997470968442"
     },
     "user_tz": -540
    },
    "id": "7N4UNzuSi1Mq",
    "outputId": "1c742613-1285-45cf-9eb2-f872d6e31161"
   },
   "outputs": [
    {
     "name": "stdout",
     "output_type": "stream",
     "text": [
      "(24,)\n"
     ]
    }
   ],
   "source": [
    "B = A.ravel()\n",
    "print(B.shape)"
   ]
  },
  {
   "cell_type": "code",
   "execution_count": 47,
   "metadata": {
    "colab": {
     "base_uri": "https://localhost:8080/",
     "height": 34
    },
    "executionInfo": {
     "elapsed": 4297,
     "status": "ok",
     "timestamp": 1602552668129,
     "user": {
      "displayName": "pp juju",
      "photoUrl": "",
      "userId": "05403389997470968442"
     },
     "user_tz": -540
    },
    "id": "XGYpvznpi6rd",
    "outputId": "ec49f76d-dd76-4fc5-ad21-155965d3a070"
   },
   "outputs": [
    {
     "name": "stdout",
     "output_type": "stream",
     "text": [
      "(24,)\n"
     ]
    }
   ],
   "source": [
    "C = A.flatten()\n",
    "print(C.shape)"
   ]
  },
  {
   "cell_type": "markdown",
   "metadata": {
    "id": "ZhpTUYiUi_Du"
   },
   "source": [
    "reshape을 이용한 구현"
   ]
  },
  {
   "cell_type": "code",
   "execution_count": 48,
   "metadata": {
    "colab": {
     "base_uri": "https://localhost:8080/",
     "height": 34
    },
    "executionInfo": {
     "elapsed": 4282,
     "status": "ok",
     "timestamp": 1602552668132,
     "user": {
      "displayName": "pp juju",
      "photoUrl": "",
      "userId": "05403389997470968442"
     },
     "user_tz": -540
    },
    "id": "FAHD9P81i_1l",
    "outputId": "fff6d053-f69d-4b1a-d8af-fb37bdb88392"
   },
   "outputs": [
    {
     "name": "stdout",
     "output_type": "stream",
     "text": [
      "(24,)\n"
     ]
    }
   ],
   "source": [
    "D= A.reshape(24)\n",
    "print(D.shape)"
   ]
  },
  {
   "cell_type": "markdown",
   "metadata": {
    "id": "-fqAU5vmkplY"
   },
   "source": [
    "# **Random**"
   ]
  },
  {
   "cell_type": "markdown",
   "metadata": {
    "id": "oZuYUW_HksAb"
   },
   "source": [
    "np.random.choice"
   ]
  },
  {
   "cell_type": "code",
   "execution_count": 49,
   "metadata": {
    "executionInfo": {
     "elapsed": 4270,
     "status": "ok",
     "timestamp": 1602552668133,
     "user": {
      "displayName": "pp juju",
      "photoUrl": "",
      "userId": "05403389997470968442"
     },
     "user_tz": -540
    },
    "id": "knDkBYi8kuOJ"
   },
   "outputs": [],
   "source": [
    "np.random.seed(0)\n",
    "p = np.array([0.1, 0.0, 0.7, 0.2])"
   ]
  },
  {
   "cell_type": "code",
   "execution_count": 50,
   "metadata": {
    "colab": {
     "base_uri": "https://localhost:8080/",
     "height": 193
    },
    "executionInfo": {
     "elapsed": 4254,
     "status": "ok",
     "timestamp": 1602552668133,
     "user": {
      "displayName": "pp juju",
      "photoUrl": "",
      "userId": "05403389997470968442"
     },
     "user_tz": -540
    },
    "id": "_D5hm8RGk2ys",
    "outputId": "bc8a136f-c011-4983-f11e-19adf6790b4c"
   },
   "outputs": [
    {
     "name": "stdout",
     "output_type": "stream",
     "text": [
      "0 2\n",
      "1 2\n",
      "2 2\n",
      "3 2\n",
      "4 2\n",
      "5 2\n",
      "6 2\n",
      "7 3\n",
      "8 3\n",
      "9 2\n"
     ]
    }
   ],
   "source": [
    "for i in range(10):\n",
    "    index = np.random.choice([0, 1, 2, 3], p = p.ravel())\n",
    "    print(i, index)"
   ]
  },
  {
   "cell_type": "markdown",
   "metadata": {
    "id": "ZQiQPB_Nk_M6"
   },
   "source": [
    "This means that you will pick the index according to the distribution: $P(index = 0) = 0.1, P(index = 1) = 0.0, P(index = 2) = 0.7, P(index = 3) = 0.2$."
   ]
  },
  {
   "cell_type": "code",
   "execution_count": 51,
   "metadata": {
    "executionInfo": {
     "elapsed": 4243,
     "status": "ok",
     "timestamp": 1602552668136,
     "user": {
      "displayName": "pp juju",
      "photoUrl": "",
      "userId": "05403389997470968442"
     },
     "user_tz": -540
    },
    "id": "JG8U13VxlG1t"
   },
   "outputs": [],
   "source": [
    "v =[0,0,0,0]\n",
    "ntest = 1000\n",
    "for i in range(ntest):\n",
    "    idx = np.random.choice([0, 1, 2, 3], p = p.ravel())\n",
    "    v[idx] += 1"
   ]
  },
  {
   "cell_type": "markdown",
   "metadata": {
    "id": "aySkc52DlNih"
   },
   "source": [
    "**np.random.permutation**"
   ]
  },
  {
   "cell_type": "code",
   "execution_count": 52,
   "metadata": {
    "colab": {
     "base_uri": "https://localhost:8080/",
     "height": 34
    },
    "executionInfo": {
     "elapsed": 4235,
     "status": "ok",
     "timestamp": 1602552668137,
     "user": {
      "displayName": "pp juju",
      "photoUrl": "",
      "userId": "05403389997470968442"
     },
     "user_tz": -540
    },
    "id": "gsm87AzxlP7A",
    "outputId": "3de2f058-81a9-490f-d40e-4f5969d0c0fd"
   },
   "outputs": [
    {
     "name": "stdout",
     "output_type": "stream",
     "text": [
      "[2 1 4 0 3]\n"
     ]
    }
   ],
   "source": [
    "m1 = np.random.permutation(5)\n",
    "print(m1)"
   ]
  },
  {
   "cell_type": "markdown",
   "metadata": {
    "id": "ssRp6rqOlRsW"
   },
   "source": [
    "* array shuffle하기 (1차원)"
   ]
  },
  {
   "cell_type": "code",
   "execution_count": 53,
   "metadata": {
    "executionInfo": {
     "elapsed": 4225,
     "status": "ok",
     "timestamp": 1602552668138,
     "user": {
      "displayName": "pp juju",
      "photoUrl": "",
      "userId": "05403389997470968442"
     },
     "user_tz": -540
    },
    "id": "Nv9J50-9lUTy"
   },
   "outputs": [],
   "source": [
    "X = np.array([10,20,30,40,50])\n",
    "shuffled_X = X[m1]"
   ]
  },
  {
   "cell_type": "code",
   "execution_count": 54,
   "metadata": {
    "colab": {
     "base_uri": "https://localhost:8080/",
     "height": 52
    },
    "executionInfo": {
     "elapsed": 4219,
     "status": "ok",
     "timestamp": 1602552668143,
     "user": {
      "displayName": "pp juju",
      "photoUrl": "",
      "userId": "05403389997470968442"
     },
     "user_tz": -540
    },
    "id": "zPitVV0dlVq0",
    "outputId": "873c0db5-ddbe-4bf6-8dd2-d1cebbb9354d"
   },
   "outputs": [
    {
     "name": "stdout",
     "output_type": "stream",
     "text": [
      "[10 20 30 40 50]\n",
      "[30 20 50 10 40]\n"
     ]
    }
   ],
   "source": [
    "print(X)\n",
    "print(shuffled_X)"
   ]
  },
  {
   "cell_type": "markdown",
   "metadata": {
    "id": "Fm8OuhMWlZhN"
   },
   "source": [
    "* array shuffle하기 (2차원)"
   ]
  },
  {
   "cell_type": "code",
   "execution_count": 55,
   "metadata": {
    "executionInfo": {
     "elapsed": 4212,
     "status": "ok",
     "timestamp": 1602552668144,
     "user": {
      "displayName": "pp juju",
      "photoUrl": "",
      "userId": "05403389997470968442"
     },
     "user_tz": -540
    },
    "id": "B737uZp2lbGn"
   },
   "outputs": [],
   "source": [
    "x1 = [2, 4, 8, 10, 20]\n",
    "x2 = [0.2,  0.4, -0.8, 1.0, -2.0]\n",
    "X = np.transpose(np.vstack((x1, x2)))"
   ]
  },
  {
   "cell_type": "code",
   "execution_count": 56,
   "metadata": {
    "colab": {
     "base_uri": "https://localhost:8080/",
     "height": 122
    },
    "executionInfo": {
     "elapsed": 4203,
     "status": "ok",
     "timestamp": 1602552668144,
     "user": {
      "displayName": "pp juju",
      "photoUrl": "",
      "userId": "05403389997470968442"
     },
     "user_tz": -540
    },
    "id": "fzotKvt-ld9l",
    "outputId": "73a3dcc0-d607-45d6-efcc-9fad15856862"
   },
   "outputs": [
    {
     "name": "stdout",
     "output_type": "stream",
     "text": [
      "[[ 2.   0.2]\n",
      " [ 4.   0.4]\n",
      " [ 8.  -0.8]\n",
      " [10.   1. ]\n",
      " [20.  -2. ]]\n",
      "(5, 2)\n"
     ]
    }
   ],
   "source": [
    "print(X)\n",
    "print(X.shape)"
   ]
  },
  {
   "cell_type": "code",
   "execution_count": 57,
   "metadata": {
    "executionInfo": {
     "elapsed": 4200,
     "status": "ok",
     "timestamp": 1602552668148,
     "user": {
      "displayName": "pp juju",
      "photoUrl": "",
      "userId": "05403389997470968442"
     },
     "user_tz": -540
    },
    "id": "jLXUQuS9lhVM"
   },
   "outputs": [],
   "source": [
    "permutation = np.random.permutation(5)"
   ]
  },
  {
   "cell_type": "code",
   "execution_count": 58,
   "metadata": {
    "executionInfo": {
     "elapsed": 4193,
     "status": "ok",
     "timestamp": 1602552668148,
     "user": {
      "displayName": "pp juju",
      "photoUrl": "",
      "userId": "05403389997470968442"
     },
     "user_tz": -540
    },
    "id": "5JjxdZ9lllil"
   },
   "outputs": [],
   "source": [
    "X_shuffle=  X[permutation]"
   ]
  },
  {
   "cell_type": "code",
   "execution_count": 59,
   "metadata": {
    "colab": {
     "base_uri": "https://localhost:8080/",
     "height": 105
    },
    "executionInfo": {
     "elapsed": 4184,
     "status": "ok",
     "timestamp": 1602552668149,
     "user": {
      "displayName": "pp juju",
      "photoUrl": "",
      "userId": "05403389997470968442"
     },
     "user_tz": -540
    },
    "id": "Q_0imyR3lnPt",
    "outputId": "b09cab5b-cb8a-4dfa-a5c5-5fab483cb8c2"
   },
   "outputs": [
    {
     "name": "stdout",
     "output_type": "stream",
     "text": [
      "[[ 8.  -0.8]\n",
      " [10.   1. ]\n",
      " [20.  -2. ]\n",
      " [ 4.   0.4]\n",
      " [ 2.   0.2]]\n"
     ]
    }
   ],
   "source": [
    "print(X_shuffle)"
   ]
  }
 ],
 "metadata": {
  "colab": {
   "authorship_tag": "ABX9TyOVOmoqsqoEkSDBO6oHkMJM",
   "collapsed_sections": [],
   "name": "03-HelloNumpy.ipynb",
   "provenance": []
  },
  "kernelspec": {
   "display_name": "Python 3",
   "language": "python",
   "name": "python3"
  },
  "language_info": {
   "codemirror_mode": {
    "name": "ipython",
    "version": 3
   },
   "file_extension": ".py",
   "mimetype": "text/x-python",
   "name": "python",
   "nbconvert_exporter": "python",
   "pygments_lexer": "ipython3",
   "version": "3.6.9"
  }
 },
 "nbformat": 4,
 "nbformat_minor": 1
}
