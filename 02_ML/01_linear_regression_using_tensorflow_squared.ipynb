{
 "cells": [
  {
   "cell_type": "markdown",
   "metadata": {
    "id": "0ytWyK5snzpd"
   },
   "source": [
    "**라이브러리 Import 하기**"
   ]
  },
  {
   "cell_type": "code",
   "execution_count": 5,
   "metadata": {
    "executionInfo": {
     "elapsed": 1380,
     "status": "ok",
     "timestamp": 1602401875784,
     "user": {
      "displayName": "pp juju",
      "photoUrl": "",
      "userId": "05403389997470968442"
     },
     "user_tz": -540
    },
    "id": "BdQRkRhGn_Dw"
   },
   "outputs": [],
   "source": [
    "#import tensorflow as tf\n",
    "import tensorflow.compat.v1 as tf\n",
    "tf.disable_v2_behavior()\n",
    "\n",
    "import numpy as np\n",
    "import matplotlib.pyplot as plt"
   ]
  },
  {
   "cell_type": "markdown",
   "metadata": {
    "id": "hAn73uzyoHBv"
   },
   "source": [
    "**X and Y data (given)**"
   ]
  },
  {
   "cell_type": "markdown",
   "metadata": {},
   "source": [
    "* todo 예1,2,3)"
   ]
  },
  {
   "cell_type": "code",
   "execution_count": 8,
   "metadata": {
    "executionInfo": {
     "elapsed": 2455,
     "status": "ok",
     "timestamp": 1602401876869,
     "user": {
      "displayName": "pp juju",
      "photoUrl": "",
      "userId": "05403389997470968442"
     },
     "user_tz": -540
    },
    "id": "ehHS4GzHoIPv"
   },
   "outputs": [],
   "source": [
    "x_train = [1, 2, 3, 4, 5, 6]# 데이터갯수 늘림\n",
    "y_train = [-2+0.3, 1, 4, 7, 10, 13+0.15] #y=3x-5/ 노이즈 다르게줌\n",
    "\n",
    "signal_length = len(x_train)\n",
    "y_noise = np.random.normal(0, 1, signal_length)\n",
    "\n",
    "y_train = y_train + y_noise"
   ]
  },
  {
   "cell_type": "code",
   "execution_count": 9,
   "metadata": {
    "colab": {
     "base_uri": "https://localhost:8080/",
     "height": 265
    },
    "executionInfo": {
     "elapsed": 2448,
     "status": "ok",
     "timestamp": 1602401876872,
     "user": {
      "displayName": "pp juju",
      "photoUrl": "",
      "userId": "05403389997470968442"
     },
     "user_tz": -540
    },
    "id": "9iacQ2TJonnY",
    "outputId": "c0bd09fe-c426-4c61-a8db-e1d6ba40ffb4"
   },
   "outputs": [
    {
     "data": {
      "image/png": "[encoded data removed]",
      "text/plain": [
       "<Figure size 432x288 with 1 Axes>"
      ]
     },
     "metadata": {
      "needs_background": "light"
     },
     "output_type": "display_data"
    }
   ],
   "source": [
    "plt.plot(x_train, y_train,'.-')\n",
    "plt.grid()"
   ]
  },
  {
   "cell_type": "markdown",
   "metadata": {
    "id": "DY_ssz6EorF7"
   },
   "source": [
    "**Initialization**"
   ]
  },
  {
   "cell_type": "code",
   "execution_count": 10,
   "metadata": {
    "executionInfo": {
     "elapsed": 2444,
     "status": "ok",
     "timestamp": 1602401876878,
     "user": {
      "displayName": "pp juju",
      "photoUrl": "",
      "userId": "05403389997470968442"
     },
     "user_tz": -540
    },
    "id": "q2LViq_Jor7Z"
   },
   "outputs": [],
   "source": [
    "useRandom = False"
   ]
  },
  {
   "cell_type": "markdown",
   "metadata": {},
   "source": [
    "* todo 예4)"
   ]
  },
  {
   "cell_type": "code",
   "execution_count": 12,
   "metadata": {
    "executionInfo": {
     "elapsed": 2439,
     "status": "ok",
     "timestamp": 1602401876882,
     "user": {
      "displayName": "pp juju",
      "photoUrl": "",
      "userId": "05403389997470968442"
     },
     "user_tz": -540
    },
    "id": "GrL1fbbOpNYw"
   },
   "outputs": [],
   "source": [
    "if useRandom:\n",
    "    W = tf.Variable(tf.random_normal([1]), name='weight')\n",
    "    b = tf.Variable(tf.random_normal([1]), name='bias')\n",
    "else:\n",
    "    w0 = 7.0;# 초기값w0, b0 다르게 설정\n",
    "    b0 = 5.0;\n",
    "\n",
    "    W = tf.Variable(w0*tf.ones([1]), name='weight')\n",
    "    b = tf.Variable(b0*tf.ones([1]), name='bias')"
   ]
  },
  {
   "cell_type": "markdown",
   "metadata": {
    "id": "hbmktsuhpPUL"
   },
   "source": [
    "Our hypothesis\n",
    "$$H(X)=Wx+b$$"
   ]
  },
  {
   "cell_type": "code",
   "execution_count": 13,
   "metadata": {
    "executionInfo": {
     "elapsed": 2434,
     "status": "ok",
     "timestamp": 1602401876885,
     "user": {
      "displayName": "pp juju",
      "photoUrl": "",
      "userId": "05403389997470968442"
     },
     "user_tz": -540
    },
    "id": "p93zp8Lepbdo"
   },
   "outputs": [],
   "source": [
    "hypothesis = x_train * W + b"
   ]
  },
  {
   "cell_type": "markdown",
   "metadata": {
    "id": "OS4Mf7KXpeyO"
   },
   "source": [
    "**cost/loss function 정의하기**\n",
    "* loss of one training example:\n",
    "$$loss = \\mathcal{L}(\\hat{y}, y) = (\\hat y^{(i)} - y^{(i)})^2 \\tag{1}$$\n"
   ]
  },
  {
   "cell_type": "code",
   "execution_count": 14,
   "metadata": {
    "executionInfo": {
     "elapsed": 2428,
     "status": "ok",
     "timestamp": 1602401876887,
     "user": {
      "displayName": "pp juju",
      "photoUrl": "",
      "userId": "05403389997470968442"
     },
     "user_tz": -540
    },
    "id": "obiVNY3Rqv4B"
   },
   "outputs": [],
   "source": [
    "loss = tf.reduce_mean(tf.square(hypothesis - y_train))"
   ]
  },
  {
   "cell_type": "markdown",
   "metadata": {
    "id": "koUI-5yhqxeF"
   },
   "source": [
    "**Optimizer**"
   ]
  },
  {
   "cell_type": "code",
   "execution_count": 15,
   "metadata": {
    "executionInfo": {
     "elapsed": 2424,
     "status": "ok",
     "timestamp": 1602401876892,
     "user": {
      "displayName": "pp juju",
      "photoUrl": "",
      "userId": "05403389997470968442"
     },
     "user_tz": -540
    },
    "id": "xo_Hh_uBqyFx"
   },
   "outputs": [],
   "source": [
    "optimizer = tf.train.GradientDescentOptimizer(learning_rate=0.01)\n",
    "train = optimizer.minimize(loss)"
   ]
  },
  {
   "cell_type": "markdown",
   "metadata": {
    "id": "SVU9U72aq05A"
   },
   "source": [
    "**Launch the graph in a session**"
   ]
  },
  {
   "cell_type": "code",
   "execution_count": 16,
   "metadata": {
    "executionInfo": {
     "elapsed": 2420,
     "status": "ok",
     "timestamp": 1602401876894,
     "user": {
      "displayName": "pp juju",
      "photoUrl": "",
      "userId": "05403389997470968442"
     },
     "user_tz": -540
    },
    "id": "B1ZL0fuEq3no"
   },
   "outputs": [],
   "source": [
    "sess = tf.Session()"
   ]
  },
  {
   "cell_type": "markdown",
   "metadata": {
    "id": "4aOVB9HXq60K"
   },
   "source": [
    "**Initializes global variables in the graph.**"
   ]
  },
  {
   "cell_type": "code",
   "execution_count": 17,
   "metadata": {
    "executionInfo": {
     "elapsed": 2416,
     "status": "ok",
     "timestamp": 1602401876896,
     "user": {
      "displayName": "pp juju",
      "photoUrl": "",
      "userId": "05403389997470968442"
     },
     "user_tz": -540
    },
    "id": "Y79KGIqSq81-"
   },
   "outputs": [],
   "source": [
    "sess.run(tf.global_variables_initializer())"
   ]
  },
  {
   "cell_type": "code",
   "execution_count": 18,
   "metadata": {
    "colab": {
     "base_uri": "https://localhost:8080/"
    },
    "executionInfo": {
     "elapsed": 3971,
     "status": "ok",
     "timestamp": 1602401878461,
     "user": {
      "displayName": "pp juju",
      "photoUrl": "",
      "userId": "05403389997470968442"
     },
     "user_tz": -540
    },
    "id": "tmpgkjWNq_PT",
    "outputId": "06491d98-c3ec-4096-8cc2-84077f67aa7c"
   },
   "outputs": [
    {
     "name": "stdout",
     "output_type": "stream",
     "text": [
      "0 \t 306.91183 \t 5.0404663 \t 4.512327\n",
      "100 \t 5.7946353 \t 1.4111844 \t 1.1593193\n",
      "200 \t 2.9034016 \t 1.7961638 \t -0.48885334\n",
      "300 \t 1.511793 \t 2.0632517 \t -1.6323102\n",
      "400 \t 0.84198326 \t 2.24855 \t -2.425609\n",
      "500 \t 0.51959103 \t 2.3771048 \t -2.9759774\n",
      "600 \t 0.3644166 \t 2.4662929 \t -3.3578086\n",
      "700 \t 0.28972834 \t 2.528169 \t -3.6227126\n",
      "800 \t 0.2537794 \t 2.5710967 \t -3.8064952\n",
      "900 \t 0.23647654 \t 2.6008787 \t -3.9339976\n",
      "1000 \t 0.22814842 \t 2.6215403 \t -4.0224547\n",
      "1100 \t 0.22413968 \t 2.635876 \t -4.0838275\n",
      "1200 \t 0.22221027 \t 2.6458206 \t -4.126404\n",
      "1300 \t 0.22128175 \t 2.65272 \t -4.155941\n",
      "1400 \t 0.22083466 \t 2.657507 \t -4.1764345\n",
      "1500 \t 0.22061948 \t 2.6608274 \t -4.1906495\n",
      "1600 \t 0.22051583 \t 2.6631312 \t -4.2005143\n",
      "1700 \t 0.22046597 \t 2.6647296 \t -4.2073565\n",
      "1800 \t 0.22044206 \t 2.665839 \t -4.2121058\n",
      "1900 \t 0.22043043 \t 2.6666083 \t -4.2153993\n",
      "2000 \t 0.22042508 \t 2.6671422 \t -4.2176847\n"
     ]
    }
   ],
   "source": [
    "nb_epoch = 2001\n",
    "vloss = []\n",
    "vb =  []\n",
    "vw = [] \n",
    "\n",
    "for step in range(nb_epoch):\n",
    "    sess.run(train)\n",
    "    loss1 = sess.run(loss)\n",
    "    w1 = sess.run(W)[0] # 기울기\n",
    "    b1 = sess.run(b)[0] # bias\n",
    "    \n",
    "    vloss.append(loss1)\n",
    "    vb.append(b1)\n",
    "    vw.append(w1)\n",
    "\n",
    "    if step % 100 == 0: # 100번마다\n",
    "       \n",
    "        print(step,'\\t', loss1,'\\t', w1,'\\t',b1)"
   ]
  },
  {
   "cell_type": "code",
   "execution_count": 19,
   "metadata": {
    "colab": {
     "base_uri": "https://localhost:8080/",
     "height": 297
    },
    "executionInfo": {
     "elapsed": 4292,
     "status": "ok",
     "timestamp": 1602401878799,
     "user": {
      "displayName": "pp juju",
      "photoUrl": "",
      "userId": "05403389997470968442"
     },
     "user_tz": -540
    },
    "id": "3b8uvoIerUFz",
    "outputId": "dd22835f-d5a6-4ba6-a8d3-f4754b5bee17"
   },
   "outputs": [
    {
     "data": {
      "text/plain": [
       "Text(0, 0.5, 'loss')"
      ]
     },
     "execution_count": 19,
     "metadata": {},
     "output_type": "execute_result"
    },
    {
     "data": {
      "image/png": "[encoded data removed]",
      "text/plain": [
       "<Figure size 432x288 with 1 Axes>"
      ]
     },
     "metadata": {
      "needs_background": "light"
     },
     "output_type": "display_data"
    }
   ],
   "source": [
    "plt.plot(vloss[:20],'.-')\n",
    "plt.xlabel('epoch')\n",
    "plt.ylabel('loss')"
   ]
  },
  {
   "cell_type": "markdown",
   "metadata": {},
   "source": [
    "학습완료"
   ]
  },
  {
   "cell_type": "code",
   "execution_count": 20,
   "metadata": {
    "executionInfo": {
     "elapsed": 4870,
     "status": "ok",
     "timestamp": 1602401879416,
     "user": {
      "displayName": "pp juju",
      "photoUrl": "",
      "userId": "05403389997470968442"
     },
     "user_tz": -540
    },
    "id": "gky2Cl52rbot"
   },
   "outputs": [],
   "source": [
    "w1 = sess.run(W)[0] # 기울기\n",
    "b1 = sess.run(b)[0] # bias"
   ]
  },
  {
   "cell_type": "markdown",
   "metadata": {
    "id": "5ohuQQVcrftt"
   },
   "source": [
    "\n",
    "출력해보기"
   ]
  },
  {
   "cell_type": "code",
   "execution_count": 21,
   "metadata": {
    "colab": {
     "base_uri": "https://localhost:8080/"
    },
    "executionInfo": {
     "elapsed": 4861,
     "status": "ok",
     "timestamp": 1602401879418,
     "user": {
      "displayName": "pp juju",
      "photoUrl": "",
      "userId": "05403389997470968442"
     },
     "user_tz": -540
    },
    "id": "q-dGA8oNrgGe",
    "outputId": "77ee4c88-1bfe-42b0-b43a-64b48ff31ff1"
   },
   "outputs": [
    {
     "name": "stdout",
     "output_type": "stream",
     "text": [
      "2.6671422 -4.2176847\n"
     ]
    }
   ],
   "source": [
    "print(w1, b1)"
   ]
  },
  {
   "cell_type": "code",
   "execution_count": 22,
   "metadata": {
    "colab": {
     "base_uri": "https://localhost:8080/"
    },
    "executionInfo": {
     "elapsed": 4847,
     "status": "ok",
     "timestamp": 1602401879420,
     "user": {
      "displayName": "pp juju",
      "photoUrl": "",
      "userId": "05403389997470968442"
     },
     "user_tz": -540
    },
    "id": "VbM2cLjDrlNg",
    "outputId": "87c2f137-8415-440f-9c3c-c8806c11152f"
   },
   "outputs": [
    {
     "name": "stdout",
     "output_type": "stream",
     "text": [
      "y = 2.6671422x + -4.2176847\n"
     ]
    }
   ],
   "source": [
    "str1 = 'y = ' + str(w1) +'x + ' + str(b1)\n",
    "print(str1)"
   ]
  },
  {
   "cell_type": "code",
   "execution_count": 32,
   "metadata": {
    "colab": {
     "base_uri": "https://localhost:8080/",
     "height": 298
    },
    "executionInfo": {
     "elapsed": 4835,
     "status": "ok",
     "timestamp": 1602401879421,
     "user": {
      "displayName": "pp juju",
      "photoUrl": "",
      "userId": "05403389997470968442"
     },
     "user_tz": -540
    },
    "id": "jqxphTForn5o",
    "outputId": "f47b3c05-a0f6-4c1a-bcef-52f12395bffc"
   },
   "outputs": [
    {
     "data": {
      "text/plain": [
       "Text(0.5, 1.0, 'y = 2.6671422x + -4.2176847')"
      ]
     },
     "execution_count": 32,
     "metadata": {},
     "output_type": "execute_result"
    },
    {
     "data": {
      "image/png": "[encoded data removed]",
      "text/plain": [
       "<Figure size 576x432 with 1 Axes>"
      ]
     },
     "metadata": {
      "needs_background": "light"
     },
     "output_type": "display_data"
    }
   ],
   "source": [
    "plt.figure(figsize=(8,6)) # figsize를 바꾸어보세요\n",
    "plt.plot(x_train, y_train,'o') #train data 그리기\n",
    "\n",
    "# 직선 그래프를 그리기 위한 코드\n",
    "# 그래프의 x좌표를 일정 간격으로 설정함\n",
    "x1 = np.linspace(np.min(x_train)-1, np.max(x_train)+1)\n",
    "y1 = w1*x1 + b1\n",
    "plt.plot(x1, y1)\n",
    "\n",
    "plt.grid() # 격자\n",
    "#plt.axis((np.min(x_train) - 1, np.max(x_train) + 1, np.min(y_train) - 1, np.max(y_train) + 1))\n",
    "plt.title(str1)"
   ]
  },
  {
   "cell_type": "markdown",
   "metadata": {
    "id": "tSK4H6EoIFEj"
   },
   "source": [
    "# **R-Squared**"
   ]
  },
  {
   "cell_type": "markdown",
   "metadata": {
    "id": "ZEgHceqtIXHX"
   },
   "source": [
    "R-squared 란? 모델이 데이터에 얼마나 적합한 지 수치적으로 결정하는 방법입니다. "
   ]
  },
  {
   "cell_type": "code",
   "execution_count": 79,
   "metadata": {
    "executionInfo": {
     "elapsed": 4809,
     "status": "ok",
     "timestamp": 1602401879423,
     "user": {
      "displayName": "pp juju",
      "photoUrl": "",
      "userId": "05403389997470968442"
     },
     "user_tz": -540
    },
    "id": "zmHhIBNvIoQH"
   },
   "outputs": [],
   "source": [
    "import matplotlib.pyplot as plt\n",
    "import numpy as np\n",
    "from sklearn.linear_model import LinearRegression\n",
    "from sklearn.metrics import mean_squared_error\n",
    "import random\n",
    "%matplotlib inline"
   ]
  },
  {
   "cell_type": "markdown",
   "metadata": {
    "id": "IPgJBOrxJKqQ"
   },
   "source": [
    "# **MSE(Mean Squared Error)**"
   ]
  },
  {
   "cell_type": "markdown",
   "metadata": {
    "id": "ZgOWzhOIetpL"
   },
   "source": [
    "$$ \\frac{(실제값-예측값)^2}{데이터수} $$"
   ]
  },
  {
   "cell_type": "code",
   "execution_count": 80,
   "metadata": {
    "colab": {
     "base_uri": "https://localhost:8080/"
    },
    "executionInfo": {
     "elapsed": 4796,
     "status": "ok",
     "timestamp": 1602401879427,
     "user": {
      "displayName": "pp juju",
      "photoUrl": "",
      "userId": "05403389997470968442"
     },
     "user_tz": -540
    },
    "id": "4fs2EgSWfdkC",
    "outputId": "dcd042d7-39d4-45a0-8b07-1b1812f7491f"
   },
   "outputs": [
    {
     "name": "stdout",
     "output_type": "stream",
     "text": [
      "[[ 1]\n",
      " [ 5]\n",
      " [ 6]\n",
      " [ 7]\n",
      " [11]]\n"
     ]
    }
   ],
   "source": [
    "x=[[1],[2],[3],[4],[5]]\n",
    "y=[[1],[5],[6],[7],[11]]\n",
    "y=np.array(y)\n",
    "x=np.array(x)\n",
    "mean=(1+5+6+7+11)/5 #데이터의 평균값\n",
    "print(y)"
   ]
  },
  {
   "cell_type": "code",
   "execution_count": 81,
   "metadata": {
    "colab": {
     "base_uri": "https://localhost:8080/",
     "height": 282
    },
    "executionInfo": {
     "elapsed": 5302,
     "status": "ok",
     "timestamp": 1602401879955,
     "user": {
      "displayName": "pp juju",
      "photoUrl": "",
      "userId": "05403389997470968442"
     },
     "user_tz": -540
    },
    "id": "fBhvfYb8f5Bg",
    "outputId": "016bdfb3-e00f-47bc-92b6-5bd46ef4fb19"
   },
   "outputs": [
    {
     "data": {
      "text/plain": [
       "[<matplotlib.lines.Line2D at 0x7f04379507b8>]"
      ]
     },
     "execution_count": 81,
     "metadata": {
      "tags": []
     },
     "output_type": "execute_result"
    },
    {
     "data": {
      "image/png": "[encoded data removed]",
      "text/plain": [
       "<Figure size 432x288 with 1 Axes>"
      ]
     },
     "metadata": {
      "needs_background": "light",
      "tags": []
     },
     "output_type": "display_data"
    }
   ],
   "source": [
    "plt.plot(x,y,marker='o',linestyle='')\n",
    "plt.plot('X')\n",
    "plt.plot('Y')"
   ]
  },
  {
   "cell_type": "code",
   "execution_count": 82,
   "metadata": {
    "colab": {
     "base_uri": "https://localhost:8080/"
    },
    "executionInfo": {
     "elapsed": 5296,
     "status": "ok",
     "timestamp": 1602401879962,
     "user": {
      "displayName": "pp juju",
      "photoUrl": "",
      "userId": "05403389997470968442"
     },
     "user_tz": -540
    },
    "id": "wPDBoTMfgFpp",
    "outputId": "27238bbb-5ae8-42c6-e43d-ed5a7745084e"
   },
   "outputs": [
    {
     "data": {
      "text/plain": [
       "LinearRegression(copy_X=True, fit_intercept=True, n_jobs=None, normalize=False)"
      ]
     },
     "execution_count": 82,
     "metadata": {
      "tags": []
     },
     "output_type": "execute_result"
    }
   ],
   "source": [
    "lr = LinearRegression()\n",
    "lr.fit(x,y)"
   ]
  },
  {
   "cell_type": "code",
   "execution_count": 83,
   "metadata": {
    "colab": {
     "base_uri": "https://localhost:8080/",
     "height": 282
    },
    "executionInfo": {
     "elapsed": 5284,
     "status": "ok",
     "timestamp": 1602401879965,
     "user": {
      "displayName": "pp juju",
      "photoUrl": "",
      "userId": "05403389997470968442"
     },
     "user_tz": -540
    },
    "id": "DmESRjXJgNz3",
    "outputId": "e02e7e11-2f28-4e22-a73e-9ae6ef020e3e"
   },
   "outputs": [
    {
     "data": {
      "text/plain": [
       "<matplotlib.lines.Line2D at 0x7f043790d320>"
      ]
     },
     "execution_count": 83,
     "metadata": {
      "tags": []
     },
     "output_type": "execute_result"
    },
    {
     "data": {
      "image/png": "[encoded data removed]",
      "text/plain": [
       "<Figure size 432x288 with 1 Axes>"
      ]
     },
     "metadata": {
      "needs_background": "light",
      "tags": []
     },
     "output_type": "display_data"
    }
   ],
   "source": [
    "plt.plot(x,y,marker='o',linestyle='')\n",
    "plt.plot(x,lr.predict(x),color = 'red')\n",
    "plt.axhline(y=mean, xmin=0.04, xmax=0.96, color = 'black')"
   ]
  },
  {
   "cell_type": "code",
   "execution_count": 84,
   "metadata": {
    "colab": {
     "base_uri": "https://localhost:8080/"
    },
    "executionInfo": {
     "elapsed": 5274,
     "status": "ok",
     "timestamp": 1602401879969,
     "user": {
      "displayName": "pp juju",
      "photoUrl": "",
      "userId": "05403389997470968442"
     },
     "user_tz": -540
    },
    "id": "BZZdf12AgkwL",
    "outputId": "7a8db637-aa73-4f77-98a2-4702e2cb50b3"
   },
   "outputs": [
    {
     "data": {
      "text/plain": [
       "0.7200000000000001"
      ]
     },
     "execution_count": 84,
     "metadata": {
      "tags": []
     },
     "output_type": "execute_result"
    }
   ],
   "source": [
    "mean_squared_error(y, lr.predict(x))"
   ]
  },
  {
   "cell_type": "code",
   "execution_count": 85,
   "metadata": {
    "colab": {
     "base_uri": "https://localhost:8080/"
    },
    "executionInfo": {
     "elapsed": 5266,
     "status": "ok",
     "timestamp": 1602401879972,
     "user": {
      "displayName": "pp juju",
      "photoUrl": "",
      "userId": "05403389997470968442"
     },
     "user_tz": -540
    },
    "id": "S4yLKyvWhGzK",
    "outputId": "56d0571d-e131-4b20-9192-5fde1adfb7ec"
   },
   "outputs": [
    {
     "name": "stdout",
     "output_type": "stream",
     "text": [
      "[[ 1.6]\n",
      " [ 3.8]\n",
      " [ 6. ]\n",
      " [ 8.2]\n",
      " [10.4]]\n"
     ]
    }
   ],
   "source": [
    "print(lr.predict(x))"
   ]
  },
  {
   "cell_type": "code",
   "execution_count": 86,
   "metadata": {
    "executionInfo": {
     "elapsed": 5257,
     "status": "ok",
     "timestamp": 1602401879973,
     "user": {
      "displayName": "pp juju",
      "photoUrl": "",
      "userId": "05403389997470968442"
     },
     "user_tz": -540
    },
    "id": "SA44itvPhNZs"
   },
   "outputs": [],
   "source": [
    "def myMSE(X,Y,line):\n",
    "  err=0\n",
    "  #for i in range (len(X)):     #예측값 MSE구하기\n",
    "  #    err+=(Y[i][0]-line[i][0])**2\n",
    "\n",
    "  if (str(type(line)) == \"<class 'float'>\"): #평균MSE 구하기\n",
    "      for i in range(len(X)):\n",
    "          err += (Y[i][0]-line)**2\n",
    "\n",
    "  else:\n",
    "      for i in range(len(X)):  #예측값 Mse 구하기\n",
    "          err +=(Y[i][0]-line[i][0])**2\n",
    "\n",
    "  MSE = err/len(X)\n",
    "  return MSE"
   ]
  },
  {
   "cell_type": "code",
   "execution_count": 87,
   "metadata": {
    "colab": {
     "base_uri": "https://localhost:8080/"
    },
    "executionInfo": {
     "elapsed": 5250,
     "status": "ok",
     "timestamp": 1602401879975,
     "user": {
      "displayName": "pp juju",
      "photoUrl": "",
      "userId": "05403389997470968442"
     },
     "user_tz": -540
    },
    "id": "qpUEuDQLiOMR",
    "outputId": "f3d0961a-2aa7-4541-91b4-44a078953e7c"
   },
   "outputs": [
    {
     "name": "stdout",
     "output_type": "stream",
     "text": [
      "MSE : 0.7200000000000001\n"
     ]
    }
   ],
   "source": [
    "print(\"MSE :\", myMSE(x,y,lr.predict(x)))"
   ]
  },
  {
   "cell_type": "markdown",
   "metadata": {
    "id": "6tJReU4JiZgJ"
   },
   "source": [
    "# **R squared**"
   ]
  },
  {
   "cell_type": "markdown",
   "metadata": {
    "id": "AeFY9oibib0S"
   },
   "source": [
    "$$ R^2 = 1- \\frac{MSE of regression line}{MSEof the average of the data} $$"
   ]
  },
  {
   "cell_type": "code",
   "execution_count": 88,
   "metadata": {
    "colab": {
     "base_uri": "https://localhost:8080/"
    },
    "executionInfo": {
     "elapsed": 5242,
     "status": "ok",
     "timestamp": 1602401879978,
     "user": {
      "displayName": "pp juju",
      "photoUrl": "",
      "userId": "05403389997470968442"
     },
     "user_tz": -540
    },
    "id": "O9T5mJGfi0ob",
    "outputId": "7ac0fda4-d161-4061-fe78-bc46597576b6"
   },
   "outputs": [
    {
     "data": {
      "text/plain": [
       "0.9307692307692308"
      ]
     },
     "execution_count": 88,
     "metadata": {
      "tags": []
     },
     "output_type": "execute_result"
    }
   ],
   "source": [
    "lr.score(x,y)"
   ]
  },
  {
   "cell_type": "code",
   "execution_count": 89,
   "metadata": {
    "executionInfo": {
     "elapsed": 5234,
     "status": "ok",
     "timestamp": 1602401879979,
     "user": {
      "displayName": "pp juju",
      "photoUrl": "",
      "userId": "05403389997470968442"
     },
     "user_tz": -540
    },
    "id": "ajuS0Ol-i2pd"
   },
   "outputs": [],
   "source": [
    "def myRsq(X,Y,model):\n",
    "\n",
    "    #평균구하기\n",
    "    hap=0\n",
    "    for i in range(len(X)):\n",
    "        hap += Y[i][0]\n",
    "    mean = float(hap/len(X))\n",
    "    print(\"평균:\", mean)\n",
    "\n",
    "    #모델 fit 하기 \n",
    "    model.fit(X,Y)\n",
    "\n",
    "    #MSE와 R-squared 구하기\n",
    "    reg_mse=myMSE(X,Y,model.predict(X))\n",
    "    avg_mse=myMSE(X,Y,mean)\n",
    "    r=1-(reg_mse/avg_mse)\n",
    "\n",
    "    #출력\n",
    "    #print(\"MSEof regression line:\", reg_mse)\n",
    "    #print(\"MSE of average line:\", avg_mse)\n",
    "    print( \"R-squared:\", r)"
   ]
  },
  {
   "cell_type": "code",
   "execution_count": 90,
   "metadata": {
    "colab": {
     "base_uri": "https://localhost:8080/"
    },
    "executionInfo": {
     "elapsed": 5227,
     "status": "ok",
     "timestamp": 1602401879981,
     "user": {
      "displayName": "pp juju",
      "photoUrl": "",
      "userId": "05403389997470968442"
     },
     "user_tz": -540
    },
    "id": "hX3VnV8YjxyF",
    "outputId": "3b646ac4-16ea-4d9b-a015-a0df2b85f6f3"
   },
   "outputs": [
    {
     "name": "stdout",
     "output_type": "stream",
     "text": [
      "평균: 6.0\n",
      "R-squared: 0.9307692307692308\n"
     ]
    }
   ],
   "source": [
    "myRsq(x,y,LinearRegression())"
   ]
  },
  {
   "cell_type": "markdown",
   "metadata": {
    "id": "6WJc7YM3kehl"
   },
   "source": [
    "# **100개 데이터로 해보기**"
   ]
  },
  {
   "cell_type": "markdown",
   "metadata": {
    "id": "JppMwduGkjoL"
   },
   "source": [
    "# **데이터가 선형 모델에 적합한 경우**"
   ]
  },
  {
   "cell_type": "markdown",
   "metadata": {
    "id": "Yt62iDNNknFv"
   },
   "source": [
    "**1. 데이터 만들기**"
   ]
  },
  {
   "cell_type": "code",
   "execution_count": 91,
   "metadata": {
    "executionInfo": {
     "elapsed": 5220,
     "status": "ok",
     "timestamp": 1602401879983,
     "user": {
      "displayName": "pp juju",
      "photoUrl": "",
      "userId": "05403389997470968442"
     },
     "user_tz": -540
    },
    "id": "bcrnMbMykpk2"
   },
   "outputs": [],
   "source": [
    "data=100 #데이터 개수 정하기"
   ]
  },
  {
   "cell_type": "code",
   "execution_count": 92,
   "metadata": {
    "colab": {
     "base_uri": "https://localhost:8080/"
    },
    "executionInfo": {
     "elapsed": 5723,
     "status": "ok",
     "timestamp": 1602401880495,
     "user": {
      "displayName": "pp juju",
      "photoUrl": "",
      "userId": "05403389997470968442"
     },
     "user_tz": -540
    },
    "id": "mtZw_wDUktcR",
    "outputId": "b4e8bbd1-9cdf-4fe1-c861-76038918a558"
   },
   "outputs": [
    {
     "data": {
      "text/plain": [
       "(100, 1)"
      ]
     },
     "execution_count": 92,
     "metadata": {
      "tags": []
     },
     "output_type": "execute_result"
    }
   ],
   "source": [
    "#x_train 데이터 만들기\n",
    "x_train=[]\n",
    "for i in range(1,data+1):\n",
    "  x_train.append([i])\n",
    "\n",
    "x_train=np.array(x_train)\n",
    "x_train.shape"
   ]
  },
  {
   "cell_type": "code",
   "execution_count": 93,
   "metadata": {
    "colab": {
     "base_uri": "https://localhost:8080/"
    },
    "executionInfo": {
     "elapsed": 5714,
     "status": "ok",
     "timestamp": 1602401880498,
     "user": {
      "displayName": "pp juju",
      "photoUrl": "",
      "userId": "05403389997470968442"
     },
     "user_tz": -540
    },
    "id": "XyqR_PL9k_XW",
    "outputId": "9889cc4d-0a4c-4d11-e429-fc6d3683557e"
   },
   "outputs": [
    {
     "data": {
      "text/plain": [
       "(100, 1)"
      ]
     },
     "execution_count": 93,
     "metadata": {
      "tags": []
     },
     "output_type": "execute_result"
    }
   ],
   "source": [
    "#y_train 데이터 만들기\n",
    "y_train1=[]\n",
    "for i in range(1,data+1): #y_train에 노이즈 만들어서 넣기\n",
    "  y_train1.append([i+random.uniform(-20,20)]) #난수발생시켜서 노이즈 만들기\n",
    "  \n",
    "y_train1=np.array(y_train1)\n",
    "y_train1.shape"
   ]
  },
  {
   "cell_type": "code",
   "execution_count": 94,
   "metadata": {
    "colab": {
     "base_uri": "https://localhost:8080/",
     "height": 297
    },
    "executionInfo": {
     "elapsed": 5702,
     "status": "ok",
     "timestamp": 1602401880502,
     "user": {
      "displayName": "pp juju",
      "photoUrl": "",
      "userId": "05403389997470968442"
     },
     "user_tz": -540
    },
    "id": "F6zctKRMlYKm",
    "outputId": "d89ca058-f23b-4371-ab60-08c128ab5e69"
   },
   "outputs": [
    {
     "data": {
      "text/plain": [
       "Text(0, 0.5, 'Y')"
      ]
     },
     "execution_count": 94,
     "metadata": {
      "tags": []
     },
     "output_type": "execute_result"
    },
    {
     "data": {
      "image/png": "[encoded data removed]",
      "text/plain": [
       "<Figure size 432x288 with 1 Axes>"
      ]
     },
     "metadata": {
      "needs_background": "light",
      "tags": []
     },
     "output_type": "display_data"
    }
   ],
   "source": [
    "plt.plot(x_train, y_train1, marker='o', linestyle='')\n",
    "plt.xlabel('X')\n",
    "plt.ylabel('Y')"
   ]
  },
  {
   "cell_type": "markdown",
   "metadata": {
    "id": "hUoxeP5alx8N"
   },
   "source": [
    "**2. 모델에 넣기**"
   ]
  },
  {
   "cell_type": "code",
   "execution_count": 95,
   "metadata": {
    "colab": {
     "base_uri": "https://localhost:8080/"
    },
    "executionInfo": {
     "elapsed": 5685,
     "status": "ok",
     "timestamp": 1602401880503,
     "user": {
      "displayName": "pp juju",
      "photoUrl": "",
      "userId": "05403389997470968442"
     },
     "user_tz": -540
    },
    "id": "FbLAj6L5l1ep",
    "outputId": "82895de3-2f3e-45fa-a97d-0fd68051da86"
   },
   "outputs": [
    {
     "data": {
      "text/plain": [
       "LinearRegression(copy_X=True, fit_intercept=True, n_jobs=None, normalize=False)"
      ]
     },
     "execution_count": 95,
     "metadata": {
      "tags": []
     },
     "output_type": "execute_result"
    }
   ],
   "source": [
    "lr.fit(x_train,y_train1)"
   ]
  },
  {
   "cell_type": "code",
   "execution_count": 96,
   "metadata": {
    "colab": {
     "base_uri": "https://localhost:8080/"
    },
    "executionInfo": {
     "elapsed": 5674,
     "status": "ok",
     "timestamp": 1602401880506,
     "user": {
      "displayName": "pp juju",
      "photoUrl": "",
      "userId": "05403389997470968442"
     },
     "user_tz": -540
    },
    "id": "dxXeQ0-hl5dX",
    "outputId": "5bf13fe4-3f3a-4135-a893-d37b0b786c5d"
   },
   "outputs": [
    {
     "name": "stdout",
     "output_type": "stream",
     "text": [
      "48.13556586553031\n"
     ]
    }
   ],
   "source": [
    "#평균값 구하기\n",
    "mean=0\n",
    "for i in y_train1:\n",
    "    for j in i:\n",
    "        mean+=j\n",
    "mean=mean/data\n",
    "print(mean)"
   ]
  },
  {
   "cell_type": "code",
   "execution_count": 97,
   "metadata": {
    "colab": {
     "base_uri": "https://localhost:8080/",
     "height": 297
    },
    "executionInfo": {
     "elapsed": 5667,
     "status": "ok",
     "timestamp": 1602401880512,
     "user": {
      "displayName": "pp juju",
      "photoUrl": "",
      "userId": "05403389997470968442"
     },
     "user_tz": -540
    },
    "id": "CAqmTKXrmDWO",
    "outputId": "79bb4ae1-6c1d-441b-fc44-e986adf0a9a2"
   },
   "outputs": [
    {
     "data": {
      "text/plain": [
       "<matplotlib.lines.Line2D at 0x7f043784ebe0>"
      ]
     },
     "execution_count": 97,
     "metadata": {
      "tags": []
     },
     "output_type": "execute_result"
    },
    {
     "data": {
      "image/png": "[encoded data removed]",
      "text/plain": [
       "<Figure size 432x288 with 1 Axes>"
      ]
     },
     "metadata": {
      "needs_background": "light",
      "tags": []
     },
     "output_type": "display_data"
    }
   ],
   "source": [
    "#예측한 값과 평균 그려보기\n",
    "plt.plot(x_train, y_train1, marker='o', linestyle='')\n",
    "plt.xlabel('X')\n",
    "plt.ylabel('Y')\n",
    "plt.plot(x_train,lr.predict(x_train), color='red')\n",
    "plt.axhline(y=mean, xmin=0.04, xmax=0.96, color='black')"
   ]
  },
  {
   "cell_type": "markdown",
   "metadata": {
    "id": "gLL1MuSmmgkU"
   },
   "source": [
    "함수와 내가 만든 함수 비교하기"
   ]
  },
  {
   "cell_type": "code",
   "execution_count": 98,
   "metadata": {
    "colab": {
     "base_uri": "https://localhost:8080/"
    },
    "executionInfo": {
     "elapsed": 5658,
     "status": "ok",
     "timestamp": 1602401880513,
     "user": {
      "displayName": "pp juju",
      "photoUrl": "",
      "userId": "05403389997470968442"
     },
     "user_tz": -540
    },
    "id": "AZ4vRBsRmj9v",
    "outputId": "fbd11b8e-5e8d-4ee2-ce05-1601145e14b2"
   },
   "outputs": [
    {
     "data": {
      "text/plain": [
       "0.8541423861464071"
      ]
     },
     "execution_count": 98,
     "metadata": {
      "tags": []
     },
     "output_type": "execute_result"
    }
   ],
   "source": [
    "lr.score(x_train,y_train1)"
   ]
  },
  {
   "cell_type": "code",
   "execution_count": 99,
   "metadata": {
    "colab": {
     "base_uri": "https://localhost:8080/"
    },
    "executionInfo": {
     "elapsed": 5646,
     "status": "ok",
     "timestamp": 1602401880515,
     "user": {
      "displayName": "pp juju",
      "photoUrl": "",
      "userId": "05403389997470968442"
     },
     "user_tz": -540
    },
    "id": "-itDj6_nmnsC",
    "outputId": "90551f00-bf0a-4ca3-d6f4-f80a7e837ded"
   },
   "outputs": [
    {
     "name": "stdout",
     "output_type": "stream",
     "text": [
      "평균: 48.13556586553031\n",
      "R-squared: 0.8541423861464073\n"
     ]
    }
   ],
   "source": [
    "myRsq(x_train, y_train1, LinearRegression())"
   ]
  },
  {
   "cell_type": "markdown",
   "metadata": {
    "id": "WNjA8aGsoNND"
   },
   "source": [
    "**데이터가 선형모델에 부적합한 경우**"
   ]
  },
  {
   "cell_type": "code",
   "execution_count": 100,
   "metadata": {
    "colab": {
     "base_uri": "https://localhost:8080/"
    },
    "executionInfo": {
     "elapsed": 5636,
     "status": "ok",
     "timestamp": 1602401880517,
     "user": {
      "displayName": "pp juju",
      "photoUrl": "",
      "userId": "05403389997470968442"
     },
     "user_tz": -540
    },
    "id": "nL_6KSIcoRIS",
    "outputId": "ad3cc405-7b55-4f51-ddf5-38e19937a0b9"
   },
   "outputs": [
    {
     "data": {
      "text/plain": [
       "(100, 1)"
      ]
     },
     "execution_count": 100,
     "metadata": {
      "tags": []
     },
     "output_type": "execute_result"
    }
   ],
   "source": [
    "y_train2=[]\n",
    "for i in range(1,data+1): #y_train에 노이즈 만들어서 넣기\n",
    "    y_train2.append([i+random.uniform(-400,400)]) #난수발생시켜서 노이즈 만들기\n",
    "\n",
    "y_train2=np.array(y_train2)\n",
    "y_train2.shape"
   ]
  },
  {
   "cell_type": "code",
   "execution_count": 101,
   "metadata": {
    "colab": {
     "base_uri": "https://localhost:8080/",
     "height": 297
    },
    "executionInfo": {
     "elapsed": 6226,
     "status": "ok",
     "timestamp": 1602401881122,
     "user": {
      "displayName": "pp juju",
      "photoUrl": "",
      "userId": "05403389997470968442"
     },
     "user_tz": -540
    },
    "id": "1aG8UnQspBkD",
    "outputId": "9c2cf75c-89ab-4858-95eb-1fe1670caf66"
   },
   "outputs": [
    {
     "data": {
      "text/plain": [
       "Text(0, 0.5, 'Y')"
      ]
     },
     "execution_count": 101,
     "metadata": {
      "tags": []
     },
     "output_type": "execute_result"
    },
    {
     "data": {
      "image/png": "[encoded data removed]",
      "text/plain": [
       "<Figure size 432x288 with 1 Axes>"
      ]
     },
     "metadata": {
      "needs_background": "light",
      "tags": []
     },
     "output_type": "display_data"
    }
   ],
   "source": [
    "plt.plot(x_train, y_train2, marker='o', linestyle='')\n",
    "plt.xlabel('X')\n",
    "plt.ylabel('Y')"
   ]
  },
  {
   "cell_type": "code",
   "execution_count": 102,
   "metadata": {
    "colab": {
     "base_uri": "https://localhost:8080/"
    },
    "executionInfo": {
     "elapsed": 6221,
     "status": "ok",
     "timestamp": 1602401881128,
     "user": {
      "displayName": "pp juju",
      "photoUrl": "",
      "userId": "05403389997470968442"
     },
     "user_tz": -540
    },
    "id": "W35OoJHvpN7K",
    "outputId": "aa08243e-da34-48d8-e1e1-33ce02005de1"
   },
   "outputs": [
    {
     "name": "stdout",
     "output_type": "stream",
     "text": [
      "59.97286622035832\n"
     ]
    }
   ],
   "source": [
    "mean=0\n",
    "for i in y_train2:\n",
    "    for j in i:\n",
    "        mean += j\n",
    "mean= mean/data\n",
    "print(mean)"
   ]
  },
  {
   "cell_type": "code",
   "execution_count": 103,
   "metadata": {
    "colab": {
     "base_uri": "https://localhost:8080/"
    },
    "executionInfo": {
     "elapsed": 6213,
     "status": "ok",
     "timestamp": 1602401881131,
     "user": {
      "displayName": "pp juju",
      "photoUrl": "",
      "userId": "05403389997470968442"
     },
     "user_tz": -540
    },
    "id": "RtboGaXspXS2",
    "outputId": "1cfddbfc-dd3d-4305-bf3a-6b85bd5c8cb8"
   },
   "outputs": [
    {
     "data": {
      "text/plain": [
       "LinearRegression(copy_X=True, fit_intercept=True, n_jobs=None, normalize=False)"
      ]
     },
     "execution_count": 103,
     "metadata": {
      "tags": []
     },
     "output_type": "execute_result"
    }
   ],
   "source": [
    "lr.fit(x_train, y_train2)"
   ]
  },
  {
   "cell_type": "code",
   "execution_count": 104,
   "metadata": {
    "colab": {
     "base_uri": "https://localhost:8080/",
     "height": 297
    },
    "executionInfo": {
     "elapsed": 6200,
     "status": "ok",
     "timestamp": 1602401881133,
     "user": {
      "displayName": "pp juju",
      "photoUrl": "",
      "userId": "05403389997470968442"
     },
     "user_tz": -540
    },
    "id": "2frgd3Ufpa0F",
    "outputId": "6423a2a8-bf7e-4af6-c957-921fb784eb81"
   },
   "outputs": [
    {
     "data": {
      "text/plain": [
       "<matplotlib.lines.Line2D at 0x7f043773ce80>"
      ]
     },
     "execution_count": 104,
     "metadata": {
      "tags": []
     },
     "output_type": "execute_result"
    },
    {
     "data": {
      "image/png": "[encoded data removed]",
      "text/plain": [
       "<Figure size 432x288 with 1 Axes>"
      ]
     },
     "metadata": {
      "needs_background": "light",
      "tags": []
     },
     "output_type": "display_data"
    }
   ],
   "source": [
    "plt.plot(x_train, y_train2, marker='o', linestyle='')\n",
    "plt.xlabel('X')\n",
    "plt.ylabel('Y')\n",
    "plt.plot(x_train, lr.predict(x_train),color='red')\n",
    "plt.axhline(y=mean, xmin=0.04, xmax=0.96, color='black')"
   ]
  },
  {
   "cell_type": "code",
   "execution_count": 105,
   "metadata": {
    "colab": {
     "base_uri": "https://localhost:8080/"
    },
    "executionInfo": {
     "elapsed": 6189,
     "status": "ok",
     "timestamp": 1602401881134,
     "user": {
      "displayName": "pp juju",
      "photoUrl": "",
      "userId": "05403389997470968442"
     },
     "user_tz": -540
    },
    "id": "lbUpWYWqp1b3",
    "outputId": "83d79f06-6d4b-4bb6-f879-59c8797e2148"
   },
   "outputs": [
    {
     "data": {
      "text/plain": [
       "0.05979262970455157"
      ]
     },
     "execution_count": 105,
     "metadata": {
      "tags": []
     },
     "output_type": "execute_result"
    }
   ],
   "source": [
    "lr.score(x_train, y_train2)"
   ]
  },
  {
   "cell_type": "code",
   "execution_count": 106,
   "metadata": {
    "colab": {
     "base_uri": "https://localhost:8080/"
    },
    "executionInfo": {
     "elapsed": 6179,
     "status": "ok",
     "timestamp": 1602401881136,
     "user": {
      "displayName": "pp juju",
      "photoUrl": "",
      "userId": "05403389997470968442"
     },
     "user_tz": -540
    },
    "id": "8rgaGXcip52m",
    "outputId": "e00e910c-783b-4c65-99ac-5851ba9796b1"
   },
   "outputs": [
    {
     "name": "stdout",
     "output_type": "stream",
     "text": [
      "평균: 59.97286622035832\n",
      "R-squared: 0.059792629704551126\n"
     ]
    }
   ],
   "source": [
    "myRsq(x_train,y_train2, LinearRegression())"
   ]
  }
 ],
 "metadata": {
  "colab": {
   "authorship_tag": "ABX9TyN1nNBN99HcqBD54NRauh3K",
   "collapsed_sections": [],
   "name": "01_linear_regression_using_tensorflow_squared.ipynb",
   "provenance": []
  },
  "kernelspec": {
   "display_name": "Python 3",
   "language": "python",
   "name": "python3"
  },
  "language_info": {
   "codemirror_mode": {
    "name": "ipython",
    "version": 3
   },
   "file_extension": ".py",
   "mimetype": "text/x-python",
   "name": "python",
   "nbconvert_exporter": "python",
   "pygments_lexer": "ipython3",
   "version": "3.6.9"
  }
 },
 "nbformat": 4,
 "nbformat_minor": 1
}
