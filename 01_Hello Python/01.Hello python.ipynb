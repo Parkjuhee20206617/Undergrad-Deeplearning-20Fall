{
 "cells": [
  {
   "cell_type": "markdown",
   "metadata": {
    "id": "HRNC-Izz6eTd"
   },
   "source": [
    "# **Python tutorial #1**"
   ]
  },
  {
   "cell_type": "markdown",
   "metadata": {
    "id": "K9VjTp8K6mHx"
   },
   "source": [
    "# **Hello World !**"
   ]
  },
  {
   "cell_type": "code",
   "execution_count": null,
   "metadata": {
    "colab": {
     "base_uri": "https://localhost:8080/",
     "height": 52
    },
    "executionInfo": {
     "elapsed": 689,
     "status": "ok",
     "timestamp": 1599186106598,
     "user": {
      "displayName": "pp juju",
      "photoUrl": "",
      "userId": "05403389997470968442"
     },
     "user_tz": -540
    },
    "id": "pPY-mp9s6umO",
    "outputId": "15f38e10-9f20-439d-9274-47493e1a6e33"
   },
   "outputs": [
    {
     "name": "stdout",
     "output_type": "stream",
     "text": [
      "Hello World\n",
      "Hello World 2 + 3 = 5\n"
     ]
    }
   ],
   "source": [
    "print('Hello World')\n",
    "print('Hello World {} + {} = {}'.format(2, 3, 2+3))"
   ]
  },
  {
   "cell_type": "markdown",
   "metadata": {
    "id": "CBipK1IZ7ELw"
   },
   "source": [
    "# **Basic data types**"
   ]
  },
  {
   "cell_type": "code",
   "execution_count": null,
   "metadata": {
    "colab": {
     "base_uri": "https://localhost:8080/",
     "height": 52
    },
    "executionInfo": {
     "elapsed": 775,
     "status": "ok",
     "timestamp": 1599186215317,
     "user": {
      "displayName": "pp juju",
      "photoUrl": "",
      "userId": "05403389997470968442"
     },
     "user_tz": -540
    },
    "id": "LXZcyV8U7Ct-",
    "outputId": "b29d1b27-ba0a-4230-e723-d17b2949007d"
   },
   "outputs": [
    {
     "name": "stdout",
     "output_type": "stream",
     "text": [
      "<class 'int'>\n",
      "3\n"
     ]
    }
   ],
   "source": [
    "x = 3\n",
    "print(type(x)) # Prints \"<class 'int'>\"\n",
    "print(x) # Prints \"3\""
   ]
  },
  {
   "cell_type": "code",
   "execution_count": null,
   "metadata": {
    "colab": {
     "base_uri": "https://localhost:8080/",
     "height": 87
    },
    "executionInfo": {
     "elapsed": 819,
     "status": "ok",
     "timestamp": 1599186246660,
     "user": {
      "displayName": "pp juju",
      "photoUrl": "",
      "userId": "05403389997470968442"
     },
     "user_tz": -540
    },
    "id": "IOGU-yQB7Xgu",
    "outputId": "75685266-22ed-4c25-c95e-2f958a8d64f6"
   },
   "outputs": [
    {
     "name": "stdout",
     "output_type": "stream",
     "text": [
      "4\n",
      "2\n",
      "6\n",
      "9\n"
     ]
    }
   ],
   "source": [
    "print(x + 1) # Addition; prints \"4\"\n",
    "print(x - 1) # Subtraction; prints \"2\"\n",
    "print(x * 2) # Multiplication; prints \"6\"\n",
    "print(x ** 2) # Exponentiation; prints \"9\""
   ]
  },
  {
   "cell_type": "markdown",
   "metadata": {
    "id": "TrO4Rb7L7cHS"
   },
   "source": [
    "# **For statement**"
   ]
  },
  {
   "cell_type": "markdown",
   "metadata": {
    "id": "opXfBDwt7hjM"
   },
   "source": [
    "range: 영역을 설정"
   ]
  },
  {
   "cell_type": "code",
   "execution_count": null,
   "metadata": {
    "colab": {
     "base_uri": "https://localhost:8080/",
     "height": 34
    },
    "executionInfo": {
     "elapsed": 813,
     "status": "ok",
     "timestamp": 1599186301268,
     "user": {
      "displayName": "pp juju",
      "photoUrl": "",
      "userId": "05403389997470968442"
     },
     "user_tz": -540
    },
    "id": "P90w-mwH7lvs",
    "outputId": "89facd0d-17c0-40e9-a04b-2a4a20565b81"
   },
   "outputs": [
    {
     "name": "stdout",
     "output_type": "stream",
     "text": [
      "range(0, 5)\n"
     ]
    }
   ],
   "source": [
    "A = range(5)\n",
    "print(A)"
   ]
  },
  {
   "cell_type": "markdown",
   "metadata": {
    "id": "PShElfUx7yj-"
   },
   "source": [
    " *** A의 세번째 요소를 출력**"
   ]
  },
  {
   "cell_type": "code",
   "execution_count": null,
   "metadata": {
    "colab": {
     "base_uri": "https://localhost:8080/",
     "height": 34
    },
    "executionInfo": {
     "elapsed": 3046,
     "status": "ok",
     "timestamp": 1599186637929,
     "user": {
      "displayName": "pp juju",
      "photoUrl": "",
      "userId": "05403389997470968442"
     },
     "user_tz": -540
    },
    "id": "9h1l1yM983TA",
    "outputId": "f0369ad0-808f-4466-94aa-d7b2b43abd03"
   },
   "outputs": [
    {
     "name": "stdout",
     "output_type": "stream",
     "text": [
      "2\n"
     ]
    }
   ],
   "source": [
    "print(A[2])"
   ]
  },
  {
   "cell_type": "code",
   "execution_count": null,
   "metadata": {
    "colab": {
     "base_uri": "https://localhost:8080/",
     "height": 105
    },
    "executionInfo": {
     "elapsed": 2093,
     "status": "ok",
     "timestamp": 1599186655411,
     "user": {
      "displayName": "pp juju",
      "photoUrl": "",
      "userId": "05403389997470968442"
     },
     "user_tz": -540
    },
    "id": "QuMlGMaQ87b0",
    "outputId": "8df2c93e-3b13-42f1-d826-e6f977ad12fa"
   },
   "outputs": [
    {
     "name": "stdout",
     "output_type": "stream",
     "text": [
      "0 ----- 0\n",
      "1 ----- 1\n",
      "2 ----- 2\n",
      "3 ----- 3\n",
      "4 ----- 4\n"
     ]
    }
   ],
   "source": [
    "for i in range(5):\n",
    "     #print(i, A[i])\n",
    "     print('{} ----- {}'.format(i, A[i]))"
   ]
  },
  {
   "cell_type": "markdown",
   "metadata": {
    "id": "yIZsqP3h8_li"
   },
   "source": [
    "**Excersise**"
   ]
  },
  {
   "cell_type": "code",
   "execution_count": null,
   "metadata": {
    "colab": {
     "base_uri": "https://localhost:8080/",
     "height": 175
    },
    "executionInfo": {
     "elapsed": 775,
     "status": "ok",
     "timestamp": 1599186717518,
     "user": {
      "displayName": "pp juju",
      "photoUrl": "",
      "userId": "05403389997470968442"
     },
     "user_tz": -540
    },
    "id": "HgE1OeMm9DxM",
    "outputId": "2de82d9d-13d9-4e96-9514-b52dcfa07131"
   },
   "outputs": [
    {
     "name": "stdout",
     "output_type": "stream",
     "text": [
      "2 x 1 = 2\n",
      "2 x 2 = 4\n",
      "2 x 3 = 6\n",
      "2 x 4 = 8\n",
      "2 x 5 = 10\n",
      "2 x 6 = 12\n",
      "2 x 7 = 14\n",
      "2 x 8 = 16\n",
      "2 x 9 = 18\n"
     ]
    }
   ],
   "source": [
    "for i in range(9):\n",
    "    print('{} x {} = {}'.format(2, i+1, 2*(i+1)))"
   ]
  },
  {
   "cell_type": "markdown",
   "metadata": {
    "id": "TKUwn2Xl9RPA"
   },
   "source": [
    "# **Operators**\n"
   ]
  },
  {
   "cell_type": "code",
   "execution_count": null,
   "metadata": {
    "colab": {
     "base_uri": "https://localhost:8080/",
     "height": 70
    },
    "executionInfo": {
     "elapsed": 2221,
     "status": "ok",
     "timestamp": 1599186776359,
     "user": {
      "displayName": "pp juju",
      "photoUrl": "",
      "userId": "05403389997470968442"
     },
     "user_tz": -540
    },
    "id": "ZpyuIqpp9Y_j",
    "outputId": "983ef767-3c22-4931-cafe-40f48492ffe8"
   },
   "outputs": [
    {
     "name": "stdout",
     "output_type": "stream",
     "text": [
      "(1, 2, 3, 1, 2, 3, 1, 2, 3)\n",
      "[1, 2, 3, 1, 2, 3, 1, 2, 3]\n",
      "Hello Hello Hello \n"
     ]
    }
   ],
   "source": [
    "print((1, 2, 3) * 3)\n",
    "print([1, 2, 3] * 3)\n",
    "print(\"Hello \"*3)"
   ]
  },
  {
   "cell_type": "markdown",
   "metadata": {
    "id": "LKFpWLsg9djc"
   },
   "source": [
    "# **Containers**"
   ]
  },
  {
   "cell_type": "markdown",
   "metadata": {
    "id": "O8MCc2sg9vvn"
   },
   "source": [
    "Python includes several built-in container types: lists, dictionaries, sets, and tuples.\n"
   ]
  },
  {
   "cell_type": "markdown",
   "metadata": {
    "id": "JNa0Q6CR9xb0"
   },
   "source": [
    "**Tuple**"
   ]
  },
  {
   "cell_type": "markdown",
   "metadata": {
    "id": "ChhYkBpU951F"
   },
   "source": [
    "A simple immutable (변경할 수 없는, 불변의) ordered sequence of items"
   ]
  },
  {
   "cell_type": "code",
   "execution_count": null,
   "metadata": {
    "colab": {
     "base_uri": "https://localhost:8080/",
     "height": 246
    },
    "executionInfo": {
     "elapsed": 4484,
     "status": "ok",
     "timestamp": 1599187405030,
     "user": {
      "displayName": "pp juju",
      "photoUrl": "",
      "userId": "05403389997470968442"
     },
     "user_tz": -540
    },
    "id": "kvvQdZ8U99Kd",
    "outputId": "434cd061-5b9b-48a7-fda1-c40441f790d8"
   },
   "outputs": [
    {
     "name": "stdout",
     "output_type": "stream",
     "text": [
      "January\n",
      "index of 0 ==>  January\n",
      "index of 1 ==>  February\n",
      "index of 2 ==>  March\n",
      "index of 3 ==>  April\n",
      "index of 4 ==>  May\n",
      "index of 5 ==>  June\n",
      "index of 6 ==>  July\n",
      "index of 7 ==>  August\n",
      "index of 8 ==>  September\n",
      "index of 9 ==>  October\n",
      "index of 10 ==>  November\n",
      "index of 11 ==>  December\n"
     ]
    }
   ],
   "source": [
    "# -*- coding: utf-8 -*-\n",
    "# creating a tuple\n",
    "months = ('January','February','March','April','May','June',\\\n",
    "'July','August','September','October','November','December')\n",
    "print(months[0])\n",
    "print(\"index of 0 ==> \" , months[0])\n",
    "print(\"index of 1 ==> \" , months[1])\n",
    "print(\"index of 2 ==> \" , months[2])\n",
    "print(\"index of 3 ==> \" , months[3])\n",
    "print(\"index of 4 ==> \" , months[4])\n",
    "print(\"index of 5 ==> \" , months[5])\n",
    "print(\"index of 6 ==> \" , months[6])\n",
    "print(\"index of 7 ==> \" , months[7])\n",
    "print(\"index of 8 ==> \" , months[8])\n",
    "print(\"index of 9 ==> \" , months[9])\n",
    "print(\"index of 10 ==> \" , months[10])\n",
    "print(\"index of 11 ==> \" , months[11])"
   ]
  },
  {
   "cell_type": "code",
   "execution_count": null,
   "metadata": {
    "colab": {
     "base_uri": "https://localhost:8080/",
     "height": 228
    },
    "executionInfo": {
     "elapsed": 757,
     "status": "ok",
     "timestamp": 1599187539661,
     "user": {
      "displayName": "pp juju",
      "photoUrl": "",
      "userId": "05403389997470968442"
     },
     "user_tz": -540
    },
    "id": "yK40sOJ-AUz-",
    "outputId": "49abf475-feff-4598-c07c-8dee3e907a98"
   },
   "outputs": [
    {
     "name": "stdout",
     "output_type": "stream",
     "text": [
      "January\n",
      "February\n",
      "March\n",
      "April\n",
      "May\n",
      "June\n",
      "July\n",
      "August\n",
      "September\n",
      "October\n",
      "November\n",
      "December\n"
     ]
    }
   ],
   "source": [
    "# iterate through them:\n",
    "for item in months:\n",
    " print (item)\n"
   ]
  },
  {
   "cell_type": "code",
   "execution_count": null,
   "metadata": {
    "colab": {
     "base_uri": "https://localhost:8080/",
     "height": 140
    },
    "executionInfo": {
     "elapsed": 1416,
     "status": "ok",
     "timestamp": 1599187606047,
     "user": {
      "displayName": "pp juju",
      "photoUrl": "",
      "userId": "05403389997470968442"
     },
     "user_tz": -540
    },
    "id": "5b2qF-p4AgUP",
    "outputId": "29387886-ebc5-428a-c442-fbfd70f3cc81"
   },
   "outputs": [
    {
     "name": "stdout",
     "output_type": "stream",
     "text": [
      "('john', 32, (2, 3, 4, 5), 'hello')\n",
      "(2, 3, 4, 5)\n",
      "3\n",
      "('john', 32)\n",
      "((2, 3, 4, 5), 'hello')\n",
      "hello\n",
      "(2, 3, 4, 5)\n"
     ]
    }
   ],
   "source": [
    "t = ('john', 32, (2,3,4,5), 'hello')\n",
    "print(t)\n",
    "print(t[2])\n",
    "print(t[2][1])\n",
    "print(t[:2]) # index 포함 X\n",
    "print(t[2:]) # index 포함 O\n",
    "print(t[-1])\n",
    "print(t[-2])"
   ]
  },
  {
   "cell_type": "markdown",
   "metadata": {
    "id": "YrJJJNjhAmjc"
   },
   "source": [
    "**List**\n"
   ]
  },
  {
   "cell_type": "markdown",
   "metadata": {
    "id": "rWl3hw1dAo97"
   },
   "source": [
    "Mutable (바꿀수 있는, 변경가능한) ordered sequence of items of mixed types"
   ]
  },
  {
   "cell_type": "code",
   "execution_count": null,
   "metadata": {
    "colab": {
     "base_uri": "https://localhost:8080/",
     "height": 34
    },
    "executionInfo": {
     "elapsed": 3323,
     "status": "ok",
     "timestamp": 1599187641025,
     "user": {
      "displayName": "pp juju",
      "photoUrl": "",
      "userId": "05403389997470968442"
     },
     "user_tz": -540
    },
    "id": "YoLX3cqrApqm",
    "outputId": "c666eb39-acc5-405e-a525-966c075ece8b"
   },
   "outputs": [
    {
     "name": "stdout",
     "output_type": "stream",
     "text": [
      "['hallym', 1, 3.141572, 'hello']\n"
     ]
    }
   ],
   "source": [
    "li = ['hallym', 1, 3.141572, 'hello']\n",
    "print(li)"
   ]
  },
  {
   "cell_type": "code",
   "execution_count": null,
   "metadata": {
    "colab": {
     "base_uri": "https://localhost:8080/",
     "height": 34
    },
    "executionInfo": {
     "elapsed": 895,
     "status": "ok",
     "timestamp": 1599187668253,
     "user": {
      "displayName": "pp juju",
      "photoUrl": "",
      "userId": "05403389997470968442"
     },
     "user_tz": -540
    },
    "id": "8xjeSYdxAyB3",
    "outputId": "a7603941-e9a2-42b6-cbb4-bd7b76096b23"
   },
   "outputs": [
    {
     "name": "stdout",
     "output_type": "stream",
     "text": [
      "['hallym', 45, 3.141572, 'hello']\n"
     ]
    }
   ],
   "source": [
    "li[1] = 45\n",
    "print(li)\n"
   ]
  },
  {
   "cell_type": "code",
   "execution_count": null,
   "metadata": {
    "colab": {
     "base_uri": "https://localhost:8080/",
     "height": 34
    },
    "executionInfo": {
     "elapsed": 2312,
     "status": "ok",
     "timestamp": 1599187688621,
     "user": {
      "displayName": "pp juju",
      "photoUrl": "",
      "userId": "05403389997470968442"
     },
     "user_tz": -540
    },
    "id": "QikAev0mA3n7",
    "outputId": "8967068b-1d86-462f-9172-ced5d8c37dff"
   },
   "outputs": [
    {
     "name": "stdout",
     "output_type": "stream",
     "text": [
      "['hallym', 45, 3.141572, 'hello', 'September']\n"
     ]
    }
   ],
   "source": [
    "li.append('September')\n",
    "print(li)"
   ]
  },
  {
   "cell_type": "markdown",
   "metadata": {
    "id": "BRK7qk0uBF4c"
   },
   "source": [
    "리스트에 새로운 것이 뒤에 붙은 것 (append)을 확인 가능"
   ]
  },
  {
   "cell_type": "markdown",
   "metadata": {
    "id": "BVSvRTuvBIoR"
   },
   "source": [
    "**비어있는 리스트 만들기**\n"
   ]
  },
  {
   "cell_type": "code",
   "execution_count": null,
   "metadata": {
    "id": "EqJeeTCOBMLc"
   },
   "outputs": [],
   "source": [
    "v = []"
   ]
  },
  {
   "cell_type": "markdown",
   "metadata": {
    "id": "142EBaUABNwx"
   },
   "source": [
    "**비어있는 리스트에 값 추가하기**\n"
   ]
  },
  {
   "cell_type": "code",
   "execution_count": null,
   "metadata": {
    "colab": {
     "base_uri": "https://localhost:8080/",
     "height": 70
    },
    "executionInfo": {
     "elapsed": 1251,
     "status": "ok",
     "timestamp": 1599209908537,
     "user": {
      "displayName": "pp juju",
      "photoUrl": "",
      "userId": "05403389997470968442"
     },
     "user_tz": -540
    },
    "id": "ma5SBGO7B7kk",
    "outputId": "68c4929a-df7c-411b-f2d0-13b346471c8a"
   },
   "outputs": [
    {
     "name": "stdout",
     "output_type": "stream",
     "text": [
      "0 [0]\n",
      "1 [0, 5]\n",
      "2 [0, 5, 10]\n"
     ]
    }
   ],
   "source": [
    "for i in range(0,3):\n",
    "    v.append(i*5)\n",
    "    print(i, v)"
   ]
  },
  {
   "cell_type": "markdown",
   "metadata": {
    "id": "FRnZnHdtCTM2"
   },
   "source": [
    "**+ 연산자**\n"
   ]
  },
  {
   "cell_type": "code",
   "execution_count": 1,
   "metadata": {
    "colab": {
     "base_uri": "https://localhost:8080/",
     "height": 70
    },
    "executionInfo": {
     "elapsed": 2404,
     "status": "ok",
     "timestamp": 1599188533767,
     "user": {
      "displayName": "pp juju",
      "photoUrl": "",
      "userId": "05403389997470968442"
     },
     "user_tz": -540
    },
    "id": "FeTtP9opEGmv",
    "outputId": "748cfcfe-57ea-496b-cadd-ae2cf62316f4"
   },
   "outputs": [
    {
     "name": "stdout",
     "output_type": "stream",
     "text": [
      "(1, 2, 3, 4, 5, 6)\n",
      "[1, 2, 3, 4, 5, 6]\n",
      "Hello World\n"
     ]
    }
   ],
   "source": [
    "print((1, 2, 3) + (4, 5, 6))\n",
    "print([1, 2, 3] + [4, 5, 6])\n",
    "print(\"Hello\" + \" \" + \"World\")"
   ]
  },
  {
   "cell_type": "markdown",
   "metadata": {
    "id": "3DH2tlp1ES_t"
   },
   "source": [
    " * **연산자**"
   ]
  },
  {
   "cell_type": "markdown",
   "metadata": {
    "id": "72UqCsc4EPk-"
   },
   "source": [
    "The * operator produces a new tuple, list, or string that \"repeats\" the original content.\n"
   ]
  },
  {
   "cell_type": "markdown",
   "metadata": {
    "id": "YfWmNy_pCa9w"
   },
   "source": [
    "In [18]:\n"
   ]
  },
  {
   "cell_type": "code",
   "execution_count": null,
   "metadata": {
    "colab": {
     "base_uri": "https://localhost:8080/",
     "height": 52
    },
    "executionInfo": {
     "elapsed": 949,
     "status": "ok",
     "timestamp": 1599188102605,
     "user": {
      "displayName": "pp juju",
      "photoUrl": "",
      "userId": "05403389997470968442"
     },
     "user_tz": -540
    },
    "id": "7Xt4jaQfCdaI",
    "outputId": "354fbcb8-948d-45c0-afc6-a05222422152"
   },
   "outputs": [
    {
     "name": "stdout",
     "output_type": "stream",
     "text": [
      "<class 'float'>\n",
      "2.5 3.5 5.0 6.25\n"
     ]
    }
   ],
   "source": [
    "y = 2.5\n",
    "print(type(y)) # Prints \"<class 'float'>\"\n",
    "print(y, y + 1, y * 2, y ** 2) # Prints \"2.5 3.5 5.0 6.25\""
   ]
  },
  {
   "cell_type": "markdown",
   "metadata": {
    "id": "fhDOPVHoCfxJ"
   },
   "source": [
    "**Enumeration (열거하기)**\n"
   ]
  },
  {
   "cell_type": "code",
   "execution_count": null,
   "metadata": {
    "id": "X8ITZohuCnwV"
   },
   "outputs": [],
   "source": [
    "for i, val in enumerate(v):\n",
    "    print('{} ---> {}'.format(i, val))"
   ]
  },
  {
   "cell_type": "code",
   "execution_count": null,
   "metadata": {
    "colab": {
     "base_uri": "https://localhost:8080/",
     "height": 34
    },
    "executionInfo": {
     "elapsed": 1787,
     "status": "ok",
     "timestamp": 1600319205020,
     "user": {
      "displayName": "pp juju",
      "photoUrl": "",
      "userId": "05403389997470968442"
     },
     "user_tz": -540
    },
    "id": "omMK5qvDCxj1",
    "outputId": "cd149f6d-03df-4150-e27d-61d150149733"
   },
   "outputs": [
    {
     "name": "stdout",
     "output_type": "stream",
     "text": [
      "['A', 'B', 'C', '0', '1', '2', '3']\n"
     ]
    }
   ],
   "source": [
    "v2 = [ 'A', 'B', 'C', '0', '1', '2', '3']\n",
    "print(v2)\n"
   ]
  },
  {
   "cell_type": "code",
   "execution_count": null,
   "metadata": {
    "colab": {
     "base_uri": "https://localhost:8080/",
     "height": 140
    },
    "executionInfo": {
     "elapsed": 837,
     "status": "ok",
     "timestamp": 1600319206383,
     "user": {
      "displayName": "pp juju",
      "photoUrl": "",
      "userId": "05403389997470968442"
     },
     "user_tz": -540
    },
    "id": "q_FymGLVC0nF",
    "outputId": "a3cd9f1d-40a1-4ab7-b779-8e815265dd20"
   },
   "outputs": [
    {
     "name": "stdout",
     "output_type": "stream",
     "text": [
      "0 ---> A\n",
      "1 ---> B\n",
      "2 ---> C\n",
      "3 ---> 0\n",
      "4 ---> 1\n",
      "5 ---> 2\n",
      "6 ---> 3\n"
     ]
    }
   ],
   "source": [
    "for i, val in enumerate(v2):\n",
    "    print('{} ---> {}'.format(i, val))"
   ]
  },
  {
   "cell_type": "markdown",
   "metadata": {
    "id": "8_sPLQJtczjv"
   },
   "source": [
    "**Listcomprehension (LC)**"
   ]
  },
  {
   "cell_type": "code",
   "execution_count": null,
   "metadata": {
    "id": "oQJKoj8Vc5Dn"
   },
   "outputs": [],
   "source": [
    "squares = []\n",
    "for x in range(10):\n",
    "    squares.append(x**2)"
   ]
  },
  {
   "cell_type": "code",
   "execution_count": null,
   "metadata": {
    "colab": {
     "base_uri": "https://localhost:8080/",
     "height": 34
    },
    "executionInfo": {
     "elapsed": 885,
     "status": "ok",
     "timestamp": 1600319114871,
     "user": {
      "displayName": "pp juju",
      "photoUrl": "",
      "userId": "05403389997470968442"
     },
     "user_tz": -540
    },
    "id": "JLgLU7LRc8Xw",
    "outputId": "183c98b0-9f01-4abd-ee28-f75a3fc4fd9c"
   },
   "outputs": [
    {
     "name": "stdout",
     "output_type": "stream",
     "text": [
      "[0, 1, 4, 9, 16, 25, 36, 49, 64, 81]\n"
     ]
    }
   ],
   "source": [
    "print(squares)"
   ]
  },
  {
   "cell_type": "markdown",
   "metadata": {
    "id": "ygxhcvj0dBhe"
   },
   "source": [
    "or, equivalently:"
   ]
  },
  {
   "cell_type": "code",
   "execution_count": null,
   "metadata": {
    "id": "IQGXWteVdDHW"
   },
   "outputs": [],
   "source": [
    "squares = [x**2 for x in range(10)]"
   ]
  },
  {
   "cell_type": "code",
   "execution_count": null,
   "metadata": {
    "colab": {
     "base_uri": "https://localhost:8080/",
     "height": 34
    },
    "executionInfo": {
     "elapsed": 878,
     "status": "ok",
     "timestamp": 1600319154048,
     "user": {
      "displayName": "pp juju",
      "photoUrl": "",
      "userId": "05403389997470968442"
     },
     "user_tz": -540
    },
    "id": "j2KFVze0dF4e",
    "outputId": "f95e1bd8-9b0b-4b89-db01-c3d10d93d643"
   },
   "outputs": [
    {
     "name": "stdout",
     "output_type": "stream",
     "text": [
      "[0, 1, 4, 9, 16, 25, 36, 49, 64, 81]\n"
     ]
    }
   ],
   "source": [
    "print(squares)"
   ]
  },
  {
   "cell_type": "code",
   "execution_count": null,
   "metadata": {
    "colab": {
     "base_uri": "https://localhost:8080/",
     "height": 34
    },
    "executionInfo": {
     "elapsed": 1017,
     "status": "ok",
     "timestamp": 1600319162019,
     "user": {
      "displayName": "pp juju",
      "photoUrl": "",
      "userId": "05403389997470968442"
     },
     "user_tz": -540
    },
    "id": "3wfpPpTtdHyr",
    "outputId": "bbf9186b-1477-4abd-d6b1-e6e727a22e2e"
   },
   "outputs": [
    {
     "name": "stdout",
     "output_type": "stream",
     "text": [
      "['메메', '롱롱']\n"
     ]
    }
   ],
   "source": [
    "word = '메롱'\n",
    "print([c * 2 for c in word])"
   ]
  },
  {
   "cell_type": "code",
   "execution_count": null,
   "metadata": {
    "id": "WNjw3g_JdJlk"
   },
   "outputs": [],
   "source": [
    "A = [n for n in range(10) if n % 2 == 0]"
   ]
  },
  {
   "cell_type": "code",
   "execution_count": null,
   "metadata": {
    "colab": {
     "base_uri": "https://localhost:8080/",
     "height": 34
    },
    "executionInfo": {
     "elapsed": 1032,
     "status": "ok",
     "timestamp": 1600319178983,
     "user": {
      "displayName": "pp juju",
      "photoUrl": "",
      "userId": "05403389997470968442"
     },
     "user_tz": -540
    },
    "id": "FJtWW6brdL90",
    "outputId": "326fef3e-f8de-4470-a886-6cfb68d2e1e5"
   },
   "outputs": [
    {
     "name": "stdout",
     "output_type": "stream",
     "text": [
      "[0, 2, 4, 6, 8]\n"
     ]
    }
   ],
   "source": [
    "print(A) # LC 에서 조건문을 통해 특정 값들을 필터링할 수 있다"
   ]
  },
  {
   "cell_type": "markdown",
   "metadata": {},
   "source": [
    "### Lambda"
   ]
  },
  {
   "cell_type": "markdown",
   "metadata": {},
   "source": [
    "* 람다(lambda)는 익명함수를 지칭하는 용어\\\n",
    "* lambda 인자리스트: 표현식"
   ]
  },
  {
   "cell_type": "code",
   "execution_count": 2,
   "metadata": {},
   "outputs": [],
   "source": [
    "def jegob(x):\n",
    "    return x**2"
   ]
  },
  {
   "cell_type": "code",
   "execution_count": 3,
   "metadata": {},
   "outputs": [],
   "source": [
    "g = lambda x: x**2"
   ]
  },
  {
   "cell_type": "code",
   "execution_count": 4,
   "metadata": {},
   "outputs": [
    {
     "data": {
      "text/plain": [
       "49"
      ]
     },
     "execution_count": 4,
     "metadata": {},
     "output_type": "execute_result"
    }
   ],
   "source": [
    "g(7)"
   ]
  },
  {
   "cell_type": "code",
   "execution_count": 5,
   "metadata": {},
   "outputs": [
    {
     "name": "stdout",
     "output_type": "stream",
     "text": [
      "64\n"
     ]
    }
   ],
   "source": [
    "print(g(8))"
   ]
  },
  {
   "cell_type": "code",
   "execution_count": 6,
   "metadata": {},
   "outputs": [
    {
     "name": "stdout",
     "output_type": "stream",
     "text": [
      "81\n"
     ]
    }
   ],
   "source": [
    "print(g(9))\n"
   ]
  },
  {
   "cell_type": "code",
   "execution_count": 7,
   "metadata": {},
   "outputs": [],
   "source": [
    "f = lambda x, y: x + y\n"
   ]
  },
  {
   "cell_type": "code",
   "execution_count": 8,
   "metadata": {},
   "outputs": [
    {
     "data": {
      "text/plain": [
       "5"
      ]
     },
     "execution_count": 8,
     "metadata": {},
     "output_type": "execute_result"
    }
   ],
   "source": [
    "f(2, 3)\n"
   ]
  },
  {
   "cell_type": "markdown",
   "metadata": {},
   "source": [
    "* 인자가 없는 Lambdas (Lambdas with no arguments)"
   ]
  },
  {
   "cell_type": "code",
   "execution_count": 9,
   "metadata": {},
   "outputs": [],
   "source": [
    "f = lambda: True"
   ]
  },
  {
   "cell_type": "code",
   "execution_count": 10,
   "metadata": {},
   "outputs": [
    {
     "data": {
      "text/plain": [
       "True"
      ]
     },
     "execution_count": 10,
     "metadata": {},
     "output_type": "execute_result"
    }
   ],
   "source": [
    "f()"
   ]
  },
  {
   "cell_type": "code",
   "execution_count": null,
   "metadata": {},
   "outputs": [],
   "source": []
  }
 ],
 "metadata": {
  "colab": {
   "authorship_tag": "ABX9TyMwpujHmzmYL7ljCxBasvSj",
   "collapsed_sections": [],
   "name": "01.Hello python_박주희.ipynb",
   "provenance": []
  },
  "kernelspec": {
   "display_name": "Python 3",
   "language": "python",
   "name": "python3"
  },
  "language_info": {
   "codemirror_mode": {
    "name": "ipython",
    "version": 3
   },
   "file_extension": ".py",
   "mimetype": "text/x-python",
   "name": "python",
   "nbconvert_exporter": "python",
   "pygments_lexer": "ipython3",
   "version": "3.6.9"
  }
 },
 "nbformat": 4,
 "nbformat_minor": 1
}
