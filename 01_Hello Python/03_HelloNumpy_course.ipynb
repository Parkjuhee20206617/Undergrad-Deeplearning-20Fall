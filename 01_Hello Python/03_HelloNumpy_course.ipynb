{
 "cells": [
  {
   "cell_type": "markdown",
   "metadata": {
    "colab_type": "text",
    "id": "CkM8saToCaWw"
   },
   "source": [
    "# Python Numpy Tutorial #1"
   ]
  },
  {
   "cell_type": "markdown",
   "metadata": {
    "colab_type": "text",
    "id": "IjSHdgYQCaWz"
   },
   "source": [
    "본 페이지는 한림대학교 딥러닝이해및활용(712031) 수업에서 학생들의 Python 학습을 위해 만든 페이지입니다. "
   ]
  },
  {
   "cell_type": "code",
   "execution_count": 1,
   "metadata": {
    "colab": {
     "base_uri": "https://localhost:8080/",
     "height": 34
    },
    "colab_type": "code",
    "id": "tg1HoZkcUg21",
    "outputId": "7fb3f294-80f9-45f3-fc8e-dde55c722deb"
   },
   "outputs": [
    {
     "name": "stdout",
     "output_type": "stream",
     "text": [
      "seung-BMDX5\n"
     ]
    }
   ],
   "source": [
    "import socket\n",
    "print(socket.gethostname())"
   ]
  },
  {
   "cell_type": "markdown",
   "metadata": {
    "colab_type": "text",
    "id": "S5bVycThCaW1"
   },
   "source": [
    "# NumPy "
   ]
  },
  {
   "cell_type": "code",
   "execution_count": 2,
   "metadata": {
    "colab": {},
    "colab_type": "code",
    "id": "ModkEWxfCaW3"
   },
   "outputs": [],
   "source": [
    "import numpy as np\n",
    "import matplotlib.pyplot as plt"
   ]
  },
  {
   "cell_type": "markdown",
   "metadata": {
    "colab_type": "text",
    "id": "7JNSKt86CaXD"
   },
   "source": [
    "### List 형태의 배열"
   ]
  },
  {
   "cell_type": "code",
   "execution_count": 3,
   "metadata": {
    "colab": {},
    "colab_type": "code",
    "id": "rjyE6m7rCaXF"
   },
   "outputs": [],
   "source": [
    "a = [1, 2, 3]"
   ]
  },
  {
   "cell_type": "code",
   "execution_count": 4,
   "metadata": {
    "colab": {
     "base_uri": "https://localhost:8080/",
     "height": 34
    },
    "colab_type": "code",
    "id": "1uHveV_jCaXR",
    "outputId": "ca6b2e09-9e9a-403f-d2be-6f1e92e97325"
   },
   "outputs": [
    {
     "name": "stdout",
     "output_type": "stream",
     "text": [
      "[1, 2, 3]\n"
     ]
    }
   ],
   "source": [
    "print(a)"
   ]
  },
  {
   "cell_type": "code",
   "execution_count": 5,
   "metadata": {
    "colab": {
     "base_uri": "https://localhost:8080/",
     "height": 34
    },
    "colab_type": "code",
    "id": "8NxHvGITEcCm",
    "outputId": "5e112c53-2d2e-4ccb-878c-20a2a8a2b0a3"
   },
   "outputs": [
    {
     "data": {
      "text/plain": [
       "(3,)"
      ]
     },
     "execution_count": 5,
     "metadata": {},
     "output_type": "execute_result"
    }
   ],
   "source": [
    "np.shape(a)"
   ]
  },
  {
   "cell_type": "markdown",
   "metadata": {
    "colab_type": "text",
    "id": "58K5juOBCaXb"
   },
   "source": [
    "### Numpy 사용한 배열"
   ]
  },
  {
   "cell_type": "code",
   "execution_count": 6,
   "metadata": {
    "colab": {},
    "colab_type": "code",
    "id": "Wq6CUCwDCaXd"
   },
   "outputs": [],
   "source": [
    "a = np.array([1, 2, 3])"
   ]
  },
  {
   "cell_type": "code",
   "execution_count": 7,
   "metadata": {
    "colab": {
     "base_uri": "https://localhost:8080/",
     "height": 34
    },
    "colab_type": "code",
    "id": "KlYvFRXlCaXj",
    "outputId": "2bac6482-0dd5-4c01-f8e2-c1daa67eff0d"
   },
   "outputs": [
    {
     "name": "stdout",
     "output_type": "stream",
     "text": [
      "[1 2 3]\n"
     ]
    }
   ],
   "source": [
    "print(a)"
   ]
  },
  {
   "cell_type": "code",
   "execution_count": 8,
   "metadata": {
    "colab": {},
    "colab_type": "code",
    "id": "7W-zOdhCCaXq"
   },
   "outputs": [],
   "source": [
    "s = a.shape"
   ]
  },
  {
   "cell_type": "code",
   "execution_count": 9,
   "metadata": {
    "colab": {
     "base_uri": "https://localhost:8080/",
     "height": 34
    },
    "colab_type": "code",
    "id": "_v_0jKG2EQCA",
    "outputId": "c03fa98c-a103-4a32-d192-c375be7702f9"
   },
   "outputs": [
    {
     "data": {
      "text/plain": [
       "(3,)"
      ]
     },
     "execution_count": 9,
     "metadata": {},
     "output_type": "execute_result"
    }
   ],
   "source": [
    "s"
   ]
  },
  {
   "cell_type": "code",
   "execution_count": 10,
   "metadata": {
    "colab": {
     "base_uri": "https://localhost:8080/",
     "height": 34
    },
    "colab_type": "code",
    "id": "S92o8CHPEMhK",
    "outputId": "2ffc79cb-b3a8-46a5-a940-7db386e8c45e"
   },
   "outputs": [
    {
     "data": {
      "text/plain": [
       "3"
      ]
     },
     "execution_count": 10,
     "metadata": {},
     "output_type": "execute_result"
    }
   ],
   "source": [
    "s[0]"
   ]
  },
  {
   "cell_type": "code",
   "execution_count": 11,
   "metadata": {
    "colab": {
     "base_uri": "https://localhost:8080/",
     "height": 51
    },
    "colab_type": "code",
    "id": "joeLauc0CaXz",
    "outputId": "c7ef6d45-c9f2-4c56-f640-9caf547ad05f"
   },
   "outputs": [
    {
     "name": "stdout",
     "output_type": "stream",
     "text": [
      "[[1 2 3]\n",
      " [4 5 6]]\n"
     ]
    }
   ],
   "source": [
    "b = np.array([[1,2,3],[4,5,6]])   # rank가 2인 배열 생성\n",
    "print(b)"
   ]
  },
  {
   "cell_type": "code",
   "execution_count": 12,
   "metadata": {
    "colab": {
     "base_uri": "https://localhost:8080/",
     "height": 34
    },
    "colab_type": "code",
    "id": "7Ky3mv0CE2YM",
    "outputId": "79fb6e7b-44b5-4e07-abf5-de14630a2ea1"
   },
   "outputs": [
    {
     "name": "stdout",
     "output_type": "stream",
     "text": [
      "(2, 3)\n"
     ]
    }
   ],
   "source": [
    "print(b.shape)                     # 출력 \"(2, 3)\""
   ]
  },
  {
   "cell_type": "code",
   "execution_count": 13,
   "metadata": {
    "colab": {
     "base_uri": "https://localhost:8080/",
     "height": 34
    },
    "colab_type": "code",
    "id": "7w5nst7iE-VS",
    "outputId": "7fd0cbc6-19c6-466d-e654-ab25b6c160f5"
   },
   "outputs": [
    {
     "name": "stdout",
     "output_type": "stream",
     "text": [
      "1 2 4\n"
     ]
    }
   ],
   "source": [
    "print(b[0, 0], b[0, 1], b[1, 0])   # 출력 \"1 2 4\""
   ]
  },
  {
   "cell_type": "code",
   "execution_count": 14,
   "metadata": {
    "colab": {
     "base_uri": "https://localhost:8080/",
     "height": 34
    },
    "colab_type": "code",
    "id": "IV-FuO-yFqjP",
    "outputId": "495ec96b-edd3-4901-b0ab-f271d8853d4b"
   },
   "outputs": [
    {
     "data": {
      "text/plain": [
       "1"
      ]
     },
     "execution_count": 14,
     "metadata": {},
     "output_type": "execute_result"
    }
   ],
   "source": [
    "b[0,0]"
   ]
  },
  {
   "cell_type": "code",
   "execution_count": 15,
   "metadata": {
    "colab": {
     "base_uri": "https://localhost:8080/",
     "height": 34
    },
    "colab_type": "code",
    "id": "WBj6j56-Fye3",
    "outputId": "76885be1-4ce4-42fd-e2ac-4c256f4dfd91"
   },
   "outputs": [
    {
     "data": {
      "text/plain": [
       "6"
      ]
     },
     "execution_count": 15,
     "metadata": {},
     "output_type": "execute_result"
    }
   ],
   "source": [
    "b[1,2]"
   ]
  },
  {
   "cell_type": "code",
   "execution_count": 16,
   "metadata": {
    "colab": {},
    "colab_type": "code",
    "id": "25nDsyaHF0y6"
   },
   "outputs": [],
   "source": [
    "#b[2,1]"
   ]
  },
  {
   "cell_type": "markdown",
   "metadata": {
    "colab_type": "text",
    "id": "YIJJee65CaX_"
   },
   "source": [
    "### Axis / axes (축)"
   ]
  },
  {
   "cell_type": "markdown",
   "metadata": {
    "colab_type": "text",
    "id": "B7VGxLozCaYB"
   },
   "source": [
    "* the nth coordinate to index an array in Numpy. \n",
    "* multidimensional arrays can have one index per axis."
   ]
  },
  {
   "cell_type": "code",
   "execution_count": 17,
   "metadata": {
    "colab": {
     "base_uri": "https://localhost:8080/",
     "height": 51
    },
    "colab_type": "code",
    "id": "qmG2iR4BCaYD",
    "outputId": "572af861-087a-4d69-d19e-954cf92a8ab9"
   },
   "outputs": [
    {
     "name": "stdout",
     "output_type": "stream",
     "text": [
      "[[1 2]\n",
      " [3 4]]\n"
     ]
    }
   ],
   "source": [
    "a = np.array([[1, 2], [3, 4]])\n",
    "print(a)"
   ]
  },
  {
   "cell_type": "markdown",
   "metadata": {
    "colab_type": "text",
    "id": "et1HwjBECaYP"
   },
   "source": [
    "Axis를 지정하지 않으면 전체 평균을 구하게 됨"
   ]
  },
  {
   "cell_type": "code",
   "execution_count": 18,
   "metadata": {
    "colab": {
     "base_uri": "https://localhost:8080/",
     "height": 34
    },
    "colab_type": "code",
    "id": "pkBkgJC-CaYZ",
    "outputId": "ab5be06f-f598-4c4b-a8fb-070279198e92"
   },
   "outputs": [
    {
     "data": {
      "text/plain": [
       "2.5"
      ]
     },
     "execution_count": 18,
     "metadata": {},
     "output_type": "execute_result"
    }
   ],
   "source": [
    "np.mean(a) "
   ]
  },
  {
   "cell_type": "markdown",
   "metadata": {
    "colab_type": "text",
    "id": "QNX7IOgwCaYn"
   },
   "source": [
    "Axis 0 방향 (↓)"
   ]
  },
  {
   "cell_type": "code",
   "execution_count": 19,
   "metadata": {
    "colab": {
     "base_uri": "https://localhost:8080/",
     "height": 34
    },
    "colab_type": "code",
    "id": "EoLSxyb3CaYp",
    "outputId": "03efdf27-27a8-46cc-ce53-51bc7b0cc003"
   },
   "outputs": [
    {
     "data": {
      "text/plain": [
       "array([2., 3.])"
      ]
     },
     "execution_count": 19,
     "metadata": {},
     "output_type": "execute_result"
    }
   ],
   "source": [
    "np.mean(a, axis=0)"
   ]
  },
  {
   "cell_type": "code",
   "execution_count": 20,
   "metadata": {
    "colab": {
     "base_uri": "https://localhost:8080/",
     "height": 34
    },
    "colab_type": "code",
    "id": "QQlhav3CCaY0",
    "outputId": "83b4ca93-2a7a-448e-abe5-3b8d1ddb0ef9"
   },
   "outputs": [
    {
     "data": {
      "text/plain": [
       "array([4, 6])"
      ]
     },
     "execution_count": 20,
     "metadata": {},
     "output_type": "execute_result"
    }
   ],
   "source": [
    "np.sum(a, axis=0)"
   ]
  },
  {
   "cell_type": "markdown",
   "metadata": {
    "colab_type": "text",
    "id": "gfva2xloCaZA"
   },
   "source": [
    "Axis 1 방향 (→)"
   ]
  },
  {
   "cell_type": "code",
   "execution_count": 21,
   "metadata": {
    "colab": {
     "base_uri": "https://localhost:8080/",
     "height": 34
    },
    "colab_type": "code",
    "id": "pJhX8RuYCaZB",
    "outputId": "acfd24eb-0dc3-40a2-822b-f1baa8c18784"
   },
   "outputs": [
    {
     "data": {
      "text/plain": [
       "array([1.5, 3.5])"
      ]
     },
     "execution_count": 21,
     "metadata": {},
     "output_type": "execute_result"
    }
   ],
   "source": [
    "np.mean(a, axis=1)"
   ]
  },
  {
   "cell_type": "code",
   "execution_count": 22,
   "metadata": {
    "colab": {
     "base_uri": "https://localhost:8080/",
     "height": 34
    },
    "colab_type": "code",
    "id": "9laVHsZFCaZM",
    "outputId": "4c386f53-317d-4a79-a1f0-faaf980c841b"
   },
   "outputs": [
    {
     "data": {
      "text/plain": [
       "array([3, 7])"
      ]
     },
     "execution_count": 22,
     "metadata": {},
     "output_type": "execute_result"
    }
   ],
   "source": [
    "np.sum(a, axis=1)"
   ]
  },
  {
   "cell_type": "markdown",
   "metadata": {
    "colab_type": "text",
    "id": "Xu8as2YvCaZV"
   },
   "source": [
    "### Broadcast\n",
    "넘파이에서 형상이 다른 배열을 계산하기 위해서 지원하는 기능 (without explicit for-loop)"
   ]
  },
  {
   "cell_type": "code",
   "execution_count": 23,
   "metadata": {
    "colab": {
     "base_uri": "https://localhost:8080/",
     "height": 68
    },
    "colab_type": "code",
    "id": "ek8OnzIXCaZX",
    "outputId": "07acf7b1-dc60-4b4c-ae38-cf0ddccc8a27"
   },
   "outputs": [
    {
     "name": "stdout",
     "output_type": "stream",
     "text": [
      "[[ 36.3   3.    4.   68. ]\n",
      " [ 37.2   4.    2.   77. ]\n",
      " [ 36.8   2.    0.5 100. ]]\n"
     ]
    }
   ],
   "source": [
    "A = np.array([[36.3, 3, 4.0, 68.0], \n",
    "              [37.2, 4, 2.0, 77.0], \n",
    "              [36.8, 2, 0.5, 100.0]])\n",
    "print(A)"
   ]
  },
  {
   "cell_type": "code",
   "execution_count": 24,
   "metadata": {
    "colab": {
     "base_uri": "https://localhost:8080/",
     "height": 34
    },
    "colab_type": "code",
    "id": "dqDsNv0_Ja8X",
    "outputId": "3348bddb-2432-4d6a-ec7e-d591e134e3f9"
   },
   "outputs": [
    {
     "data": {
      "text/plain": [
       "(3, 4)"
      ]
     },
     "execution_count": 24,
     "metadata": {},
     "output_type": "execute_result"
    }
   ],
   "source": [
    "A.shape"
   ]
  },
  {
   "cell_type": "code",
   "execution_count": 25,
   "metadata": {
    "colab": {
     "base_uri": "https://localhost:8080/",
     "height": 34
    },
    "colab_type": "code",
    "id": "5F4h-ZYjCaZj",
    "outputId": "dac49a39-00b8-41b4-b0f2-acb0cf2a5b25"
   },
   "outputs": [
    {
     "name": "stdout",
     "output_type": "stream",
     "text": [
      "[ 37.2   4.    4.  100. ]\n"
     ]
    }
   ],
   "source": [
    "cal = A.max(axis=0)\n",
    "print(cal)"
   ]
  },
  {
   "cell_type": "code",
   "execution_count": 26,
   "metadata": {
    "colab": {
     "base_uri": "https://localhost:8080/",
     "height": 34
    },
    "colab_type": "code",
    "id": "8pmZzh14JdUR",
    "outputId": "9c234d1a-56ec-4355-9328-0c750fcd92b1"
   },
   "outputs": [
    {
     "data": {
      "text/plain": [
       "(4,)"
      ]
     },
     "execution_count": 26,
     "metadata": {},
     "output_type": "execute_result"
    }
   ],
   "source": [
    "cal.shape"
   ]
  },
  {
   "cell_type": "code",
   "execution_count": 27,
   "metadata": {
    "colab": {
     "base_uri": "https://localhost:8080/",
     "height": 68
    },
    "colab_type": "code",
    "id": "3deDSw9yCaZs",
    "outputId": "230318b6-a2e4-4d98-f13a-2b80d2e2ee56"
   },
   "outputs": [
    {
     "name": "stdout",
     "output_type": "stream",
     "text": [
      "[[ 97.58064516  75.         100.          68.        ]\n",
      " [100.         100.          50.          77.        ]\n",
      " [ 98.92473118  50.          12.5        100.        ]]\n"
     ]
    }
   ],
   "source": [
    "percentage = 100* A / cal #.reshape(1,4)\n",
    "print(percentage)"
   ]
  },
  {
   "cell_type": "markdown",
   "metadata": {
    "colab_type": "text",
    "id": "v7zM8qGuCaZ6"
   },
   "source": [
    "### Stack"
   ]
  },
  {
   "cell_type": "code",
   "execution_count": 28,
   "metadata": {
    "colab": {},
    "colab_type": "code",
    "id": "Cg6pWAN_CaZ7"
   },
   "outputs": [],
   "source": [
    "a = np.array([1,2,3,4])\n",
    "b = np.array([5,6,7,8])"
   ]
  },
  {
   "cell_type": "markdown",
   "metadata": {
    "colab_type": "text",
    "id": "5O8p4KffCaaD"
   },
   "source": [
    "* 세로로 쌓기"
   ]
  },
  {
   "cell_type": "code",
   "execution_count": 29,
   "metadata": {
    "colab": {
     "base_uri": "https://localhost:8080/",
     "height": 51
    },
    "colab_type": "code",
    "id": "62kiEgAXCaaF",
    "outputId": "9da5e220-03c3-4573-da23-768652e5b8d9"
   },
   "outputs": [
    {
     "name": "stdout",
     "output_type": "stream",
     "text": [
      "[[1 2 3 4]\n",
      " [5 6 7 8]]\n"
     ]
    }
   ],
   "source": [
    "c = np.vstack((a,b))\n",
    "print(c)\n"
   ]
  },
  {
   "cell_type": "code",
   "execution_count": 30,
   "metadata": {
    "colab": {
     "base_uri": "https://localhost:8080/",
     "height": 34
    },
    "colab_type": "code",
    "id": "lKV6WdcnJ-nQ",
    "outputId": "ea62f3cb-0b39-4101-ae25-516d3a91c36c"
   },
   "outputs": [
    {
     "name": "stdout",
     "output_type": "stream",
     "text": [
      "(2, 4)\n"
     ]
    }
   ],
   "source": [
    "print(c.shape)"
   ]
  },
  {
   "cell_type": "markdown",
   "metadata": {
    "colab_type": "text",
    "id": "PdTWGqYiCaaQ"
   },
   "source": [
    "* 가로로 쌓기"
   ]
  },
  {
   "cell_type": "code",
   "execution_count": 31,
   "metadata": {
    "colab": {
     "base_uri": "https://localhost:8080/",
     "height": 34
    },
    "colab_type": "code",
    "id": "hTgupqW0CaaS",
    "outputId": "c3705495-5565-4a71-a15f-d1db5f066b87"
   },
   "outputs": [
    {
     "name": "stdout",
     "output_type": "stream",
     "text": [
      "[1 2 3 4 5 6 7 8]\n"
     ]
    }
   ],
   "source": [
    "d = np.hstack((a,b))\n",
    "print(d)"
   ]
  },
  {
   "cell_type": "code",
   "execution_count": 32,
   "metadata": {
    "colab": {
     "base_uri": "https://localhost:8080/",
     "height": 34
    },
    "colab_type": "code",
    "id": "aRapvtNJKN8k",
    "outputId": "ce010b1c-5af0-4159-b09d-6eff6d5f754d"
   },
   "outputs": [
    {
     "data": {
      "text/plain": [
       "(8,)"
      ]
     },
     "execution_count": 32,
     "metadata": {},
     "output_type": "execute_result"
    }
   ],
   "source": [
    "d.shape"
   ]
  },
  {
   "cell_type": "markdown",
   "metadata": {},
   "source": [
    "### zeros_like"
   ]
  },
  {
   "cell_type": "code",
   "execution_count": 33,
   "metadata": {},
   "outputs": [
    {
     "data": {
      "text/plain": [
       "array([[0, 0, 0, 0],\n",
       "       [0, 0, 0, 0]])"
      ]
     },
     "execution_count": 33,
     "metadata": {},
     "output_type": "execute_result"
    }
   ],
   "source": [
    "np.zeros_like(c)"
   ]
  },
  {
   "cell_type": "code",
   "execution_count": 34,
   "metadata": {},
   "outputs": [
    {
     "data": {
      "text/plain": [
       "array([[1, 1, 1, 1],\n",
       "       [1, 1, 1, 1]])"
      ]
     },
     "execution_count": 34,
     "metadata": {},
     "output_type": "execute_result"
    }
   ],
   "source": [
    "np.ones_like(c)"
   ]
  },
  {
   "cell_type": "markdown",
   "metadata": {
    "colab_type": "text",
    "id": "zrYH8If2Caac"
   },
   "source": [
    "### 형변환"
   ]
  },
  {
   "cell_type": "code",
   "execution_count": 35,
   "metadata": {
    "colab": {},
    "colab_type": "code",
    "id": "nAhKDMemCaae"
   },
   "outputs": [],
   "source": [
    "x = np.array([-2.0, 1.2, 3.7])\n",
    "y = x > 0"
   ]
  },
  {
   "cell_type": "code",
   "execution_count": 36,
   "metadata": {
    "colab": {
     "base_uri": "https://localhost:8080/",
     "height": 34
    },
    "colab_type": "code",
    "id": "a9yMOk5nKi1I",
    "outputId": "1e0355bd-bce8-4b24-a07e-1e03d01e78b0"
   },
   "outputs": [
    {
     "name": "stdout",
     "output_type": "stream",
     "text": [
      "[False  True  True]\n"
     ]
    }
   ],
   "source": [
    "print(y)"
   ]
  },
  {
   "cell_type": "code",
   "execution_count": 37,
   "metadata": {
    "colab": {
     "base_uri": "https://localhost:8080/",
     "height": 34
    },
    "colab_type": "code",
    "id": "3-L-wWilV1ib",
    "outputId": "5d4d7207-6db0-4671-a110-ac3c5973f3aa"
   },
   "outputs": [
    {
     "data": {
      "text/plain": [
       "numpy.bool_"
      ]
     },
     "execution_count": 37,
     "metadata": {},
     "output_type": "execute_result"
    }
   ],
   "source": [
    "type(y[0]) #참/거짓 -> boolean 형태 (bool)"
   ]
  },
  {
   "cell_type": "code",
   "execution_count": 38,
   "metadata": {
    "colab": {},
    "colab_type": "code",
    "id": "4E9oxzgTCaas"
   },
   "outputs": [],
   "source": [
    "y = y.astype(np.int)"
   ]
  },
  {
   "cell_type": "code",
   "execution_count": 39,
   "metadata": {
    "colab": {
     "base_uri": "https://localhost:8080/",
     "height": 34
    },
    "colab_type": "code",
    "id": "R8va31vRLDMw",
    "outputId": "186f9530-7788-4819-bb92-0d3587317302"
   },
   "outputs": [
    {
     "data": {
      "text/plain": [
       "array([0, 1, 1])"
      ]
     },
     "execution_count": 39,
     "metadata": {},
     "output_type": "execute_result"
    }
   ],
   "source": [
    "y"
   ]
  },
  {
   "cell_type": "code",
   "execution_count": 40,
   "metadata": {
    "colab": {
     "base_uri": "https://localhost:8080/",
     "height": 34
    },
    "colab_type": "code",
    "id": "ERBYQqwfWI5j",
    "outputId": "440a47b5-b408-413c-b46f-e7039ee7431d"
   },
   "outputs": [
    {
     "data": {
      "text/plain": [
       "numpy.int64"
      ]
     },
     "execution_count": 40,
     "metadata": {},
     "output_type": "execute_result"
    }
   ],
   "source": [
    "type(y[0]) # 정수 -> integer 형태 (int) #64 (long)"
   ]
  },
  {
   "cell_type": "code",
   "execution_count": 41,
   "metadata": {
    "colab": {
     "base_uri": "https://localhost:8080/",
     "height": 34
    },
    "colab_type": "code",
    "id": "r1pPWWZLLQPa",
    "outputId": "9c3fb836-b7a4-4b76-f7c0-2835f909a320"
   },
   "outputs": [
    {
     "data": {
      "text/plain": [
       "2"
      ]
     },
     "execution_count": 41,
     "metadata": {},
     "output_type": "execute_result"
    }
   ],
   "source": [
    "np.sum(y)"
   ]
  },
  {
   "cell_type": "markdown",
   "metadata": {
    "colab_type": "text",
    "id": "YKiKIk7aCabB"
   },
   "source": [
    "## Noise"
   ]
  },
  {
   "cell_type": "code",
   "execution_count": 42,
   "metadata": {
    "colab": {},
    "colab_type": "code",
    "id": "LMrEvVMtCabC"
   },
   "outputs": [],
   "source": [
    "x = np.arange(0, 6, 0.1) # 0에서 6까지 0.1 간격으로 생성\n",
    "y = np.sin(x)"
   ]
  },
  {
   "cell_type": "code",
   "execution_count": 43,
   "metadata": {
    "colab": {
     "base_uri": "https://localhost:8080/",
     "height": 102
    },
    "colab_type": "code",
    "id": "DN0gDdLrLeQi",
    "outputId": "7c6bc5d8-b1fb-4879-95e8-529e5b9cc6c4"
   },
   "outputs": [
    {
     "data": {
      "text/plain": [
       "array([0. , 0.1, 0.2, 0.3, 0.4, 0.5, 0.6, 0.7, 0.8, 0.9, 1. , 1.1, 1.2,\n",
       "       1.3, 1.4, 1.5, 1.6, 1.7, 1.8, 1.9, 2. , 2.1, 2.2, 2.3, 2.4, 2.5,\n",
       "       2.6, 2.7, 2.8, 2.9, 3. , 3.1, 3.2, 3.3, 3.4, 3.5, 3.6, 3.7, 3.8,\n",
       "       3.9, 4. , 4.1, 4.2, 4.3, 4.4, 4.5, 4.6, 4.7, 4.8, 4.9, 5. , 5.1,\n",
       "       5.2, 5.3, 5.4, 5.5, 5.6, 5.7, 5.8, 5.9])"
      ]
     },
     "execution_count": 43,
     "metadata": {},
     "output_type": "execute_result"
    }
   ],
   "source": [
    "x"
   ]
  },
  {
   "cell_type": "code",
   "execution_count": 44,
   "metadata": {
    "colab": {
     "base_uri": "https://localhost:8080/",
     "height": 221
    },
    "colab_type": "code",
    "id": "dG9XidK3CabK",
    "outputId": "9d8b722f-cf4e-4fcf-9075-d950d01600d7"
   },
   "outputs": [
    {
     "data": {
      "text/plain": [
       "array([ 0.        ,  0.09983342,  0.19866933,  0.29552021,  0.38941834,\n",
       "        0.47942554,  0.56464247,  0.64421769,  0.71735609,  0.78332691,\n",
       "        0.84147098,  0.89120736,  0.93203909,  0.96355819,  0.98544973,\n",
       "        0.99749499,  0.9995736 ,  0.99166481,  0.97384763,  0.94630009,\n",
       "        0.90929743,  0.86320937,  0.8084964 ,  0.74570521,  0.67546318,\n",
       "        0.59847214,  0.51550137,  0.42737988,  0.33498815,  0.23924933,\n",
       "        0.14112001,  0.04158066, -0.05837414, -0.15774569, -0.2555411 ,\n",
       "       -0.35078323, -0.44252044, -0.52983614, -0.61185789, -0.68776616,\n",
       "       -0.7568025 , -0.81827711, -0.87157577, -0.91616594, -0.95160207,\n",
       "       -0.97753012, -0.993691  , -0.99992326, -0.99616461, -0.98245261,\n",
       "       -0.95892427, -0.92581468, -0.88345466, -0.83226744, -0.77276449,\n",
       "       -0.70554033, -0.63126664, -0.55068554, -0.46460218, -0.37387666])"
      ]
     },
     "execution_count": 44,
     "metadata": {},
     "output_type": "execute_result"
    }
   ],
   "source": [
    "y"
   ]
  },
  {
   "cell_type": "code",
   "execution_count": 45,
   "metadata": {
    "colab": {
     "base_uri": "https://localhost:8080/",
     "height": 282
    },
    "colab_type": "code",
    "id": "Faie4mlRNkPN",
    "outputId": "63b5c214-c6f5-42bc-9e37-2baf068cb059"
   },
   "outputs": [
    {
     "data": {
      "text/plain": [
       "[<matplotlib.lines.Line2D at 0x7fc8fa855908>]"
      ]
     },
     "execution_count": 45,
     "metadata": {},
     "output_type": "execute_result"
    },
    {
     "data": {
      "image/png": "[encoded data removed]",
      "text/plain": [
       "<Figure size 432x288 with 1 Axes>"
      ]
     },
     "metadata": {
      "needs_background": "light"
     },
     "output_type": "display_data"
    }
   ],
   "source": [
    "plt.plot(x, y,'.-')"
   ]
  },
  {
   "cell_type": "code",
   "execution_count": 46,
   "metadata": {
    "colab": {
     "base_uri": "https://localhost:8080/",
     "height": 34
    },
    "colab_type": "code",
    "id": "F42QR2ScCabR",
    "outputId": "7217d678-518c-45a7-a517-eb872157d150"
   },
   "outputs": [
    {
     "name": "stdout",
     "output_type": "stream",
     "text": [
      "60\n"
     ]
    }
   ],
   "source": [
    "signal_length = y.shape[0]\n",
    "print(signal_length)"
   ]
  },
  {
   "cell_type": "code",
   "execution_count": 47,
   "metadata": {
    "colab": {},
    "colab_type": "code",
    "id": "RiP7APs4CabZ"
   },
   "outputs": [],
   "source": [
    "noise = np.random.normal(0, 1, signal_length)"
   ]
  },
  {
   "cell_type": "code",
   "execution_count": 48,
   "metadata": {
    "colab": {
     "base_uri": "https://localhost:8080/",
     "height": 34
    },
    "colab_type": "code",
    "id": "ck8L3FjaNEko",
    "outputId": "f4cbd433-d906-43d5-f253-c8420ac1fc23"
   },
   "outputs": [
    {
     "data": {
      "text/plain": [
       "-0.043390875181582376"
      ]
     },
     "execution_count": 48,
     "metadata": {},
     "output_type": "execute_result"
    }
   ],
   "source": [
    "np.mean(noise)"
   ]
  },
  {
   "cell_type": "code",
   "execution_count": 49,
   "metadata": {
    "colab": {
     "base_uri": "https://localhost:8080/",
     "height": 34
    },
    "colab_type": "code",
    "id": "2RsVXuErNS_V",
    "outputId": "192377a3-ec51-4a5c-e8ab-702890cbe832"
   },
   "outputs": [
    {
     "data": {
      "text/plain": [
       "1.020830299846527"
      ]
     },
     "execution_count": 49,
     "metadata": {},
     "output_type": "execute_result"
    }
   ],
   "source": [
    "np.std(noise)"
   ]
  },
  {
   "cell_type": "code",
   "execution_count": 50,
   "metadata": {
    "colab": {},
    "colab_type": "code",
    "id": "tWA4wOoeNuiE"
   },
   "outputs": [],
   "source": [
    "y2 = y + 0.2* noise"
   ]
  },
  {
   "cell_type": "markdown",
   "metadata": {
    "colab_type": "text",
    "id": "K3hD86vpCabe"
   },
   "source": [
    "* 참고 np.random.normal : \n",
    "random samples from a normal (Gaussian) distrubution"
   ]
  },
  {
   "cell_type": "code",
   "execution_count": 51,
   "metadata": {
    "colab": {
     "base_uri": "https://localhost:8080/",
     "height": 282
    },
    "colab_type": "code",
    "id": "bxaXSswyCabf",
    "outputId": "87ef1ea8-aa03-43b9-ceed-f3475392b442",
    "scrolled": true
   },
   "outputs": [
    {
     "data": {
      "text/plain": [
       "[<matplotlib.lines.Line2D at 0x7fc8f880da90>]"
      ]
     },
     "execution_count": 51,
     "metadata": {},
     "output_type": "execute_result"
    },
    {
     "data": {
      "image/png": "[encoded data removed]",
      "text/plain": [
       "<Figure size 432x288 with 1 Axes>"
      ]
     },
     "metadata": {
      "needs_background": "light"
     },
     "output_type": "display_data"
    }
   ],
   "source": [
    "plt.plot(x, y,'.')\n",
    "plt.plot(x, y2)\n",
    "#plt.show()"
   ]
  },
  {
   "cell_type": "markdown",
   "metadata": {
    "colab_type": "text",
    "id": "b5Sd2hYxCabo"
   },
   "source": [
    "### 배열 형상 (shape) 변환"
   ]
  },
  {
   "cell_type": "code",
   "execution_count": 52,
   "metadata": {
    "colab": {
     "base_uri": "https://localhost:8080/",
     "height": 272
    },
    "colab_type": "code",
    "id": "3D3x26nQCabp",
    "outputId": "29c46320-cb24-43e5-a9a1-e2e9635d66a2"
   },
   "outputs": [
    {
     "name": "stdout",
     "output_type": "stream",
     "text": [
      "[[[0.64962815 0.00158872]\n",
      "  [0.98777982 0.19729135]\n",
      "  [0.74236115 0.36957008]]\n",
      "\n",
      " [[0.22135698 0.48635247]\n",
      "  [0.41420487 0.37652109]\n",
      "  [0.57282853 0.11523423]]\n",
      "\n",
      " [[0.30843876 0.00477927]\n",
      "  [0.04678944 0.28630073]\n",
      "  [0.60999374 0.34611653]]\n",
      "\n",
      " [[0.92127233 0.59961877]\n",
      "  [0.95105733 0.24856576]\n",
      "  [0.07036093 0.46705114]]]\n"
     ]
    }
   ],
   "source": [
    "A = np.random.rand(4, 3, 2)\n",
    "print(A)"
   ]
  },
  {
   "cell_type": "code",
   "execution_count": 53,
   "metadata": {
    "colab": {
     "base_uri": "https://localhost:8080/",
     "height": 34
    },
    "colab_type": "code",
    "id": "V3DKSXUeOQGR",
    "outputId": "43575a93-d41c-4e2c-abf1-01c0a4dbb6f8"
   },
   "outputs": [
    {
     "data": {
      "text/plain": [
       "(4, 3, 2)"
      ]
     },
     "execution_count": 53,
     "metadata": {},
     "output_type": "execute_result"
    }
   ],
   "source": [
    "A.shape"
   ]
  },
  {
   "cell_type": "code",
   "execution_count": 54,
   "metadata": {
    "colab": {
     "base_uri": "https://localhost:8080/",
     "height": 68
    },
    "colab_type": "code",
    "id": "mstuoBswOUb8",
    "outputId": "b2398b45-a1f9-4161-cc3e-3b3f9e5e4ea0"
   },
   "outputs": [
    {
     "data": {
      "text/plain": [
       "array([[0.64962815, 0.00158872],\n",
       "       [0.98777982, 0.19729135],\n",
       "       [0.74236115, 0.36957008]])"
      ]
     },
     "execution_count": 54,
     "metadata": {},
     "output_type": "execute_result"
    }
   ],
   "source": [
    "A[0]"
   ]
  },
  {
   "cell_type": "code",
   "execution_count": 55,
   "metadata": {
    "colab": {
     "base_uri": "https://localhost:8080/",
     "height": 221
    },
    "colab_type": "code",
    "id": "6YXuWwt6Cab1",
    "outputId": "eda1e600-c1c7-4241-e2a8-4992f26c1911"
   },
   "outputs": [
    {
     "name": "stdout",
     "output_type": "stream",
     "text": [
      "[[0.64962815 0.00158872]\n",
      " [0.98777982 0.19729135]\n",
      " [0.74236115 0.36957008]\n",
      " [0.22135698 0.48635247]\n",
      " [0.41420487 0.37652109]\n",
      " [0.57282853 0.11523423]\n",
      " [0.30843876 0.00477927]\n",
      " [0.04678944 0.28630073]\n",
      " [0.60999374 0.34611653]\n",
      " [0.92127233 0.59961877]\n",
      " [0.95105733 0.24856576]\n",
      " [0.07036093 0.46705114]]\n"
     ]
    }
   ],
   "source": [
    "A = A.reshape(12, 2)\n",
    "print(A)"
   ]
  },
  {
   "cell_type": "code",
   "execution_count": 56,
   "metadata": {
    "colab": {
     "base_uri": "https://localhost:8080/",
     "height": 238
    },
    "colab_type": "code",
    "id": "mo8lpS_ZPAu8",
    "outputId": "c5d7b97c-b745-4865-dcea-144ddbb8ae3f"
   },
   "outputs": [
    {
     "name": "stdout",
     "output_type": "stream",
     "text": [
      "[[0.64962815 0.00158872]\n",
      " [0.98777982 0.19729135]\n",
      " [0.74236115 0.36957008]\n",
      " [0.22135698 0.48635247]\n",
      " [0.41420487 0.37652109]\n",
      " [0.57282853 0.11523423]\n",
      " [0.30843876 0.00477927]\n",
      " [0.04678944 0.28630073]\n",
      " [0.60999374 0.34611653]\n",
      " [0.92127233 0.59961877]\n",
      " [0.95105733 0.24856576]\n",
      " [0.07036093 0.46705114]]\n",
      "(12, 2)\n"
     ]
    }
   ],
   "source": [
    "A = A.reshape(-1, 2)\n",
    "print(A)\n",
    "print(A.shape)"
   ]
  },
  {
   "cell_type": "code",
   "execution_count": 57,
   "metadata": {
    "colab": {
     "base_uri": "https://localhost:8080/",
     "height": 34
    },
    "colab_type": "code",
    "id": "VMjiHeFuW9Wl",
    "outputId": "ee7a3529-3df5-4909-a58d-32e6e19fb518"
   },
   "outputs": [
    {
     "name": "stdout",
     "output_type": "stream",
     "text": [
      "(1, 12, 1, 2)\n"
     ]
    }
   ],
   "source": [
    "A = A.reshape(1, -1, 1, 2)\n",
    "print(A.shape)"
   ]
  },
  {
   "cell_type": "code",
   "execution_count": 58,
   "metadata": {
    "colab": {
     "base_uri": "https://localhost:8080/",
     "height": 408
    },
    "colab_type": "code",
    "id": "7A2yfeZXXOex",
    "outputId": "5ebcd40d-6cf2-41ee-853d-77381e385ac4"
   },
   "outputs": [
    {
     "data": {
      "text/plain": [
       "array([[[[0.64962815, 0.00158872]],\n",
       "\n",
       "        [[0.98777982, 0.19729135]],\n",
       "\n",
       "        [[0.74236115, 0.36957008]],\n",
       "\n",
       "        [[0.22135698, 0.48635247]],\n",
       "\n",
       "        [[0.41420487, 0.37652109]],\n",
       "\n",
       "        [[0.57282853, 0.11523423]],\n",
       "\n",
       "        [[0.30843876, 0.00477927]],\n",
       "\n",
       "        [[0.04678944, 0.28630073]],\n",
       "\n",
       "        [[0.60999374, 0.34611653]],\n",
       "\n",
       "        [[0.92127233, 0.59961877]],\n",
       "\n",
       "        [[0.95105733, 0.24856576]],\n",
       "\n",
       "        [[0.07036093, 0.46705114]]]])"
      ]
     },
     "execution_count": 58,
     "metadata": {},
     "output_type": "execute_result"
    }
   ],
   "source": [
    "A"
   ]
  },
  {
   "cell_type": "markdown",
   "metadata": {
    "colab_type": "text",
    "id": "Ze2nDnA8Cab9"
   },
   "source": [
    "### 1차원 변환 ravel() vs. reshape() vs. flatten()\n",
    "*  다차원 배열을 1차원으로 바꾸는 것"
   ]
  },
  {
   "cell_type": "code",
   "execution_count": 59,
   "metadata": {
    "colab": {
     "base_uri": "https://localhost:8080/",
     "height": 34
    },
    "colab_type": "code",
    "id": "q-ZzL-0gCacA",
    "outputId": "56873bc7-f148-4b2a-cc59-3ead29d7effa"
   },
   "outputs": [
    {
     "name": "stdout",
     "output_type": "stream",
     "text": [
      "(24,)\n"
     ]
    }
   ],
   "source": [
    "B = A.ravel()\n",
    "print(B.shape)"
   ]
  },
  {
   "cell_type": "code",
   "execution_count": 60,
   "metadata": {
    "colab": {
     "base_uri": "https://localhost:8080/",
     "height": 102
    },
    "colab_type": "code",
    "id": "RVLqiYPNPUCP",
    "outputId": "767fe4a5-b522-479b-936d-f524ed79d944"
   },
   "outputs": [
    {
     "data": {
      "text/plain": [
       "array([0.64962815, 0.00158872, 0.98777982, 0.19729135, 0.74236115,\n",
       "       0.36957008, 0.22135698, 0.48635247, 0.41420487, 0.37652109,\n",
       "       0.57282853, 0.11523423, 0.30843876, 0.00477927, 0.04678944,\n",
       "       0.28630073, 0.60999374, 0.34611653, 0.92127233, 0.59961877,\n",
       "       0.95105733, 0.24856576, 0.07036093, 0.46705114])"
      ]
     },
     "execution_count": 60,
     "metadata": {},
     "output_type": "execute_result"
    }
   ],
   "source": [
    "B"
   ]
  },
  {
   "cell_type": "code",
   "execution_count": 61,
   "metadata": {
    "colab": {
     "base_uri": "https://localhost:8080/",
     "height": 34
    },
    "colab_type": "code",
    "id": "QHG--4_bCacG",
    "outputId": "809158fa-38e3-40ea-c4b6-6eba9c9ad519"
   },
   "outputs": [
    {
     "name": "stdout",
     "output_type": "stream",
     "text": [
      "(24,)\n"
     ]
    }
   ],
   "source": [
    "C = A.flatten()\n",
    "print(C.shape)"
   ]
  },
  {
   "cell_type": "markdown",
   "metadata": {
    "colab_type": "text",
    "id": "HDCzDIQSCacM"
   },
   "source": [
    "reshape을 이용한 구현"
   ]
  },
  {
   "cell_type": "code",
   "execution_count": 62,
   "metadata": {
    "colab": {},
    "colab_type": "code",
    "id": "J9AcSd5kCacN"
   },
   "outputs": [
    {
     "name": "stdout",
     "output_type": "stream",
     "text": [
      "(24,)\n"
     ]
    }
   ],
   "source": [
    "\n",
    "D= A.reshape(24)\n",
    "print(D.shape)\n"
   ]
  },
  {
   "cell_type": "markdown",
   "metadata": {
    "colab_type": "text",
    "id": "3fTAEfcqCacW"
   },
   "source": [
    "### Random"
   ]
  },
  {
   "cell_type": "markdown",
   "metadata": {
    "colab_type": "text",
    "id": "SD1rNXbmRLLj"
   },
   "source": [
    "* np.random.randint 균일 분포의 정수 난수 1개 생성\n",
    "* np.random.rand 0부터 1사이의 균일 분포에서 난수 matrix array생성\n",
    "* np.random.randn 가우시안 표준 정규 분포에서 난수 matrix array생성"
   ]
  },
  {
   "cell_type": "code",
   "execution_count": 63,
   "metadata": {
    "colab": {
     "base_uri": "https://localhost:8080/",
     "height": 187
    },
    "colab_type": "code",
    "id": "NMyP2tCiQ-ec",
    "outputId": "4d1ea781-7e03-4cb4-de58-995d8dd54338"
   },
   "outputs": [
    {
     "name": "stdout",
     "output_type": "stream",
     "text": [
      "0 ----- 0\n",
      "1 ----- 0\n",
      "2 ----- 1\n",
      "3 ----- 2\n",
      "4 ----- 0\n",
      "5 ----- 2\n",
      "6 ----- 0\n",
      "7 ----- 0\n",
      "8 ----- 2\n",
      "9 ----- 0\n"
     ]
    }
   ],
   "source": [
    "for i in range(10):\n",
    "    a = np.random.randint(0, 3) # 0부터 3-1까지 랜덤숫자 1개\n",
    "    print(i, '-----', a)"
   ]
  },
  {
   "cell_type": "code",
   "execution_count": 64,
   "metadata": {
    "colab": {
     "base_uri": "https://localhost:8080/",
     "height": 34
    },
    "colab_type": "code",
    "id": "p1b2ubC7Q4aS",
    "outputId": "eb47e7bc-b099-469f-822c-87c25a3d0030"
   },
   "outputs": [
    {
     "data": {
      "text/plain": [
       "array([0.91840032, 0.43287039])"
      ]
     },
     "execution_count": 64,
     "metadata": {},
     "output_type": "execute_result"
    }
   ],
   "source": [
    "np.random.rand(2)"
   ]
  },
  {
   "cell_type": "code",
   "execution_count": 65,
   "metadata": {
    "colab": {
     "base_uri": "https://localhost:8080/",
     "height": 68
    },
    "colab_type": "code",
    "id": "KqjNFxPPRZGZ",
    "outputId": "ca0b2a43-2892-4eab-c365-991ae758ed36"
   },
   "outputs": [
    {
     "data": {
      "text/plain": [
       "array([[0.84123354, 0.37872983],\n",
       "       [0.23976717, 0.56397512],\n",
       "       [0.63347308, 0.57746457]])"
      ]
     },
     "execution_count": 65,
     "metadata": {},
     "output_type": "execute_result"
    }
   ],
   "source": [
    "np.random.rand(3,2)"
   ]
  },
  {
   "cell_type": "code",
   "execution_count": 66,
   "metadata": {
    "colab": {
     "base_uri": "https://localhost:8080/",
     "height": 68
    },
    "colab_type": "code",
    "id": "Fj5eZ85MRgLH",
    "outputId": "3a7ac759-4bdb-465a-e551-dbaa1e6ff363"
   },
   "outputs": [
    {
     "data": {
      "text/plain": [
       "array([[ 1.72820815,  0.30506917],\n",
       "       [-0.97475414,  0.24666821],\n",
       "       [-0.1929412 ,  0.74700732]])"
      ]
     },
     "execution_count": 66,
     "metadata": {},
     "output_type": "execute_result"
    }
   ],
   "source": [
    "np.random.randn(3, 2) #normal"
   ]
  },
  {
   "cell_type": "markdown",
   "metadata": {
    "colab_type": "text",
    "id": "t1Ez0Ua0R3YA"
   },
   "source": [
    "#### What are all the differences between numpy.random.rand and numpy.random.randn?\n",
    "https://stackoverflow.com/a/56829859"
   ]
  },
  {
   "cell_type": "code",
   "execution_count": 67,
   "metadata": {
    "colab": {
     "base_uri": "https://localhost:8080/",
     "height": 545
    },
    "colab_type": "code",
    "id": "NXW_b83bZJdK",
    "outputId": "557224bd-64b6-49b8-8c18-e7a6e434c23d",
    "scrolled": true
   },
   "outputs": [
    {
     "data": {
      "image/png": "[encoded data removed]",
      "text/plain": [
       "<Figure size 432x288 with 1 Axes>"
      ]
     },
     "metadata": {
      "needs_background": "light"
     },
     "output_type": "display_data"
    },
    {
     "data": {
      "image/png": "[encoded data removed]",
      "text/plain": [
       "<Figure size 432x288 with 1 Axes>"
      ]
     },
     "metadata": {
      "needs_background": "light"
     },
     "output_type": "display_data"
    }
   ],
   "source": [
    "sample_size = 100000\n",
    "uniform = np.random.rand(sample_size)\n",
    "normal = np.random.randn(sample_size)\n",
    "\n",
    "pdf, bins, patches = plt.hist(uniform, bins=20, range=(0, 1), density=True)\n",
    "plt.title('rand: uniform')\n",
    "plt.show()\n",
    "\n",
    "pdf, bins, patches = plt.hist(normal, bins=20, range=(-4, 4), density=True)\n",
    "plt.title('randn: normal')\n",
    "plt.show()"
   ]
  },
  {
   "cell_type": "markdown",
   "metadata": {},
   "source": [
    "rand는 균일 분포에서의 난수고 randn는 표준정규분포에서의 난수이다. "
   ]
  },
  {
   "cell_type": "markdown",
   "metadata": {
    "colab_type": "text",
    "id": "Nlq-30FLCacX"
   },
   "source": [
    "#### np.random.choice"
   ]
  },
  {
   "cell_type": "code",
   "execution_count": 68,
   "metadata": {
    "colab": {},
    "colab_type": "code",
    "id": "JSADO25YbOxW"
   },
   "outputs": [],
   "source": [
    "np.random.seed(0)"
   ]
  },
  {
   "cell_type": "code",
   "execution_count": 69,
   "metadata": {
    "colab": {},
    "colab_type": "code",
    "id": "lVqoi_sjCacZ"
   },
   "outputs": [],
   "source": [
    "p = np.array([0.1, 0.15, 0.55, 0.2])"
   ]
  },
  {
   "cell_type": "code",
   "execution_count": 70,
   "metadata": {
    "colab": {
     "base_uri": "https://localhost:8080/",
     "height": 34
    },
    "colab_type": "code",
    "id": "c9Oef05Pbt09",
    "outputId": "9e07ffff-e7bd-4e1f-c599-f19320f15ec1"
   },
   "outputs": [
    {
     "data": {
      "text/plain": [
       "1.0"
      ]
     },
     "execution_count": 70,
     "metadata": {},
     "output_type": "execute_result"
    }
   ],
   "source": [
    "np.sum(p)"
   ]
  },
  {
   "cell_type": "code",
   "execution_count": 71,
   "metadata": {
    "colab": {
     "base_uri": "https://localhost:8080/",
     "height": 187
    },
    "colab_type": "code",
    "id": "Qhpr3lYGCach",
    "outputId": "3a0556ac-16b2-4944-cea3-db5eda3843c0"
   },
   "outputs": [
    {
     "name": "stdout",
     "output_type": "stream",
     "text": [
      "0 ----- 2\n",
      "1 ----- 2\n",
      "2 ----- 2\n",
      "3 ----- 2\n",
      "4 ----- 2\n",
      "5 ----- 2\n",
      "6 ----- 2\n",
      "7 ----- 3\n",
      "8 ----- 3\n",
      "9 ----- 2\n"
     ]
    }
   ],
   "source": [
    "for i in range(10):\n",
    "    index = np.random.choice([0, 1, 2, 3], p = p.ravel())\n",
    "    print(i,'-----', index)"
   ]
  },
  {
   "cell_type": "markdown",
   "metadata": {
    "colab_type": "text",
    "id": "DPz-998-Cact"
   },
   "source": [
    "This means that you will pick the `index` according to the distribution: \n",
    "$P(index = 0) = 0.1, P(index = 1) = 0.15, P(index = 2) = 0.55, P(index = 3) = 0.2$."
   ]
  },
  {
   "cell_type": "code",
   "execution_count": 72,
   "metadata": {
    "colab": {},
    "colab_type": "code",
    "id": "GHdbNjWCCacu"
   },
   "outputs": [],
   "source": [
    "v =[0,0,0,0]\n",
    "ntest = 10000\n",
    "for i in range(ntest):\n",
    "    idx = np.random.choice([0, 1, 2, 3], p = p.ravel())\n",
    "    v[idx] += 1"
   ]
  },
  {
   "cell_type": "code",
   "execution_count": 73,
   "metadata": {
    "colab": {
     "base_uri": "https://localhost:8080/",
     "height": 34
    },
    "colab_type": "code",
    "id": "YETSexI5dDwZ",
    "outputId": "647032c1-44ca-479e-86e1-e22218f250c0"
   },
   "outputs": [
    {
     "data": {
      "text/plain": [
       "[1023, 1531, 5474, 1972]"
      ]
     },
     "execution_count": 73,
     "metadata": {},
     "output_type": "execute_result"
    }
   ],
   "source": [
    "v"
   ]
  },
  {
   "cell_type": "markdown",
   "metadata": {
    "colab_type": "text",
    "id": "1R6C8XR3Cac0"
   },
   "source": [
    "#### np.random.permutation"
   ]
  },
  {
   "cell_type": "code",
   "execution_count": 74,
   "metadata": {
    "colab": {
     "base_uri": "https://localhost:8080/",
     "height": 34
    },
    "colab_type": "code",
    "id": "hwHRNJyuCac1",
    "outputId": "e78e1eaf-5408-41bd-f667-4129b2d83a59"
   },
   "outputs": [
    {
     "name": "stdout",
     "output_type": "stream",
     "text": [
      "[2 1 3 0 4]\n"
     ]
    }
   ],
   "source": [
    "m1 = np.random.permutation(5)\n",
    "print(m1)"
   ]
  },
  {
   "cell_type": "markdown",
   "metadata": {
    "colab_type": "text",
    "id": "rYhTe6rnCac6"
   },
   "source": [
    "* array shuffle하기 (1차원)"
   ]
  },
  {
   "cell_type": "code",
   "execution_count": 75,
   "metadata": {
    "colab": {},
    "colab_type": "code",
    "id": "9RC8up3nCac7"
   },
   "outputs": [],
   "source": [
    "X = np.array([10,20,30,40,50])\n",
    "shuffled_X = X[m1]"
   ]
  },
  {
   "cell_type": "code",
   "execution_count": 76,
   "metadata": {
    "colab": {
     "base_uri": "https://localhost:8080/",
     "height": 51
    },
    "colab_type": "code",
    "id": "no1wL3NfCadG",
    "outputId": "c965bf3c-597b-4a5b-af0c-0b2edbaba8cf"
   },
   "outputs": [
    {
     "name": "stdout",
     "output_type": "stream",
     "text": [
      "[10 20 30 40 50]\n",
      "[30 20 40 10 50]\n"
     ]
    }
   ],
   "source": [
    "print(X)\n",
    "print(shuffled_X)"
   ]
  },
  {
   "cell_type": "code",
   "execution_count": 77,
   "metadata": {
    "colab": {
     "base_uri": "https://localhost:8080/",
     "height": 34
    },
    "colab_type": "code",
    "id": "zgQFJ_7zeHQz",
    "outputId": "57765bd1-427a-4805-b6d7-698fce4fd3ac"
   },
   "outputs": [
    {
     "data": {
      "text/plain": [
       "array([30, 10, 20, 40, 50])"
      ]
     },
     "execution_count": 77,
     "metadata": {},
     "output_type": "execute_result"
    }
   ],
   "source": [
    "X[np.random.permutation(5)]"
   ]
  },
  {
   "cell_type": "markdown",
   "metadata": {
    "colab_type": "text",
    "id": "I-nsXpljCadO"
   },
   "source": [
    "* array shuffle하기 (2차원)"
   ]
  },
  {
   "cell_type": "code",
   "execution_count": 78,
   "metadata": {
    "colab": {},
    "colab_type": "code",
    "id": "O9k5KFrKCadP"
   },
   "outputs": [],
   "source": [
    "x1 = [2, 4, 8, 10, 20]\n",
    "x2 = [0.2,  0.4, -0.8, 1.0, -2.0]\n",
    "X = np.transpose(np.vstack((x1, x2)))"
   ]
  },
  {
   "cell_type": "code",
   "execution_count": 79,
   "metadata": {
    "colab": {
     "base_uri": "https://localhost:8080/",
     "height": 119
    },
    "colab_type": "code",
    "id": "R4nh_b-6CadV",
    "outputId": "3f3563c2-a22d-49b9-d051-5a3b8719e950"
   },
   "outputs": [
    {
     "name": "stdout",
     "output_type": "stream",
     "text": [
      "[[ 2.   0.2]\n",
      " [ 4.   0.4]\n",
      " [ 8.  -0.8]\n",
      " [10.   1. ]\n",
      " [20.  -2. ]]\n",
      "(5, 2)\n"
     ]
    }
   ],
   "source": [
    "print(X)\n",
    "print(X.shape)"
   ]
  },
  {
   "cell_type": "code",
   "execution_count": 80,
   "metadata": {
    "colab": {
     "base_uri": "https://localhost:8080/",
     "height": 34
    },
    "colab_type": "code",
    "id": "jB9jNBVFCadg",
    "outputId": "63146cef-24c1-4082-cee2-58967d5f4508"
   },
   "outputs": [
    {
     "name": "stdout",
     "output_type": "stream",
     "text": [
      "[4 0 1 3 2]\n"
     ]
    }
   ],
   "source": [
    "permutation = np.random.permutation(5)\n",
    "print(permutation)"
   ]
  },
  {
   "cell_type": "code",
   "execution_count": 81,
   "metadata": {
    "colab": {},
    "colab_type": "code",
    "id": "faFLfEBlCadr"
   },
   "outputs": [],
   "source": [
    "X_shuffle=  X[permutation]"
   ]
  },
  {
   "cell_type": "code",
   "execution_count": 82,
   "metadata": {
    "colab": {
     "base_uri": "https://localhost:8080/",
     "height": 102
    },
    "colab_type": "code",
    "id": "fd6HkE7xCad2",
    "outputId": "78d68661-054e-4b18-df24-503f559e79a6"
   },
   "outputs": [
    {
     "name": "stdout",
     "output_type": "stream",
     "text": [
      "[[20.  -2. ]\n",
      " [ 2.   0.2]\n",
      " [ 4.   0.4]\n",
      " [10.   1. ]\n",
      " [ 8.  -0.8]]\n"
     ]
    }
   ],
   "source": [
    "print(X_shuffle)"
   ]
  }
 ],
 "metadata": {
  "colab": {
   "collapsed_sections": [
    "1R6C8XR3Cac0"
   ],
   "name": "03-HelloNumpy_course.ipynb",
   "provenance": []
  },
  "kernelspec": {
   "display_name": "Python 3",
   "language": "python",
   "name": "python3"
  },
  "language_info": {
   "codemirror_mode": {
    "name": "ipython",
    "version": 3
   },
   "file_extension": ".py",
   "mimetype": "text/x-python",
   "name": "python",
   "nbconvert_exporter": "python",
   "pygments_lexer": "ipython3",
   "version": "3.6.9"
  }
 },
 "nbformat": 4,
 "nbformat_minor": 1
}
